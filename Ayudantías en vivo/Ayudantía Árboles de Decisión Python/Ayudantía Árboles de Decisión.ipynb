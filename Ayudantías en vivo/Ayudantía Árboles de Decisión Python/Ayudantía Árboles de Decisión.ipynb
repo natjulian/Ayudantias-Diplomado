{
 "cells": [
  {
   "cell_type": "markdown",
   "metadata": {},
   "source": [
    "# Ayudantía Árboles de Decisión - Python"
   ]
  },
  {
   "cell_type": "markdown",
   "metadata": {},
   "source": [
    "## Natalie Julian"
   ]
  },
  {
   "cell_type": "markdown",
   "metadata": {},
   "source": [
    "El Departamento de Colocación del área de posgrados en negocios en la Universidad de Jain, India está buscando determinar los factores que influyen en que sus estudiantes encuentren trabajo o no. La base de datos Placement_Data_Full_Class.csv contiene información de 215 estudiantes egresados en el MBA de Bussiness Analytics.\n",
    "\n",
    "Las variables se describen a continuación:\n",
    "\n",
    "- sl_no. Número de fila.\n",
    "- gender: Género del estudiante (M: Hombre, F: Mujer).\n",
    "- ssc_p: Calificación de la escuela en 1°-10° Grado (en porcentaje).\n",
    "- ssc_b: Tipo de Junta de Educación en 1°-10° Grado (Central/Other)\n",
    "- hsc_p: Calificación de la escuela en 11°-12° Grado (en porcentaje).\n",
    "- hsc_b: Tipo de Junta de Educación en 11°-12° Grado (Central/Other)\n",
    "- hsc_s: Especialización en la escuela en 11°-12° Grado.\n",
    "- degree_p: Calificación en el grado de educación superior (en porcentaje).\n",
    "- degree_t: Área del grado de educación superior.\n",
    "- workex: Experiencia laboral (Yes/No).\n",
    "- etest_p: Calificación del test de empleabilidad (en porcentaje).\n",
    "- specialisation: Categoría de especialización del MBA.\n",
    "- mba_p: Calificación del MBA (en porcentaje).\n",
    "- status: Indicador si tiene o no un ofrecimiento de trabajo (Placed/Not Placed).\n",
    "- salary: Sueldo ofrecido a los candidatos en la oferta.\n",
    "\n",
    "Interesa determinar qué características de egresados se relacionan con una mayor probabilidad de caer en el grupo que tiene Oferta de trabajo (Placed)."
   ]
  },
  {
   "cell_type": "markdown",
   "metadata": {},
   "source": [
    "### a) Cargue la base de datos. ¿Hay alguna columna que no sea necesaria en la base de datos? Realice el cambio que estime pertinente. "
   ]
  },
  {
   "cell_type": "code",
   "execution_count": 23,
   "metadata": {},
   "outputs": [
    {
     "data": {
      "text/html": [
       "<div>\n",
       "<style scoped>\n",
       "    .dataframe tbody tr th:only-of-type {\n",
       "        vertical-align: middle;\n",
       "    }\n",
       "\n",
       "    .dataframe tbody tr th {\n",
       "        vertical-align: top;\n",
       "    }\n",
       "\n",
       "    .dataframe thead th {\n",
       "        text-align: right;\n",
       "    }\n",
       "</style>\n",
       "<table border=\"1\" class=\"dataframe\">\n",
       "  <thead>\n",
       "    <tr style=\"text-align: right;\">\n",
       "      <th></th>\n",
       "      <th>sl_no</th>\n",
       "      <th>gender</th>\n",
       "      <th>ssc_p</th>\n",
       "      <th>ssc_b</th>\n",
       "      <th>hsc_p</th>\n",
       "      <th>hsc_b</th>\n",
       "      <th>hsc_s</th>\n",
       "      <th>degree_p</th>\n",
       "      <th>degree_t</th>\n",
       "      <th>workex</th>\n",
       "      <th>etest_p</th>\n",
       "      <th>specialisation</th>\n",
       "      <th>mba_p</th>\n",
       "      <th>status</th>\n",
       "      <th>salary</th>\n",
       "    </tr>\n",
       "  </thead>\n",
       "  <tbody>\n",
       "    <tr>\n",
       "      <th>0</th>\n",
       "      <td>1</td>\n",
       "      <td>M</td>\n",
       "      <td>67.00</td>\n",
       "      <td>Others</td>\n",
       "      <td>91.00</td>\n",
       "      <td>Others</td>\n",
       "      <td>Commerce</td>\n",
       "      <td>58.00</td>\n",
       "      <td>Sci&amp;Tech</td>\n",
       "      <td>No</td>\n",
       "      <td>55.00</td>\n",
       "      <td>Mkt&amp;HR</td>\n",
       "      <td>58.80</td>\n",
       "      <td>Placed</td>\n",
       "      <td>270000.0</td>\n",
       "    </tr>\n",
       "    <tr>\n",
       "      <th>1</th>\n",
       "      <td>2</td>\n",
       "      <td>M</td>\n",
       "      <td>79.33</td>\n",
       "      <td>Central</td>\n",
       "      <td>78.33</td>\n",
       "      <td>Others</td>\n",
       "      <td>Science</td>\n",
       "      <td>77.48</td>\n",
       "      <td>Sci&amp;Tech</td>\n",
       "      <td>Yes</td>\n",
       "      <td>86.50</td>\n",
       "      <td>Mkt&amp;Fin</td>\n",
       "      <td>66.28</td>\n",
       "      <td>Placed</td>\n",
       "      <td>200000.0</td>\n",
       "    </tr>\n",
       "    <tr>\n",
       "      <th>2</th>\n",
       "      <td>3</td>\n",
       "      <td>M</td>\n",
       "      <td>65.00</td>\n",
       "      <td>Central</td>\n",
       "      <td>68.00</td>\n",
       "      <td>Central</td>\n",
       "      <td>Arts</td>\n",
       "      <td>64.00</td>\n",
       "      <td>Comm&amp;Mgmt</td>\n",
       "      <td>No</td>\n",
       "      <td>75.00</td>\n",
       "      <td>Mkt&amp;Fin</td>\n",
       "      <td>57.80</td>\n",
       "      <td>Placed</td>\n",
       "      <td>250000.0</td>\n",
       "    </tr>\n",
       "    <tr>\n",
       "      <th>3</th>\n",
       "      <td>4</td>\n",
       "      <td>M</td>\n",
       "      <td>56.00</td>\n",
       "      <td>Central</td>\n",
       "      <td>52.00</td>\n",
       "      <td>Central</td>\n",
       "      <td>Science</td>\n",
       "      <td>52.00</td>\n",
       "      <td>Sci&amp;Tech</td>\n",
       "      <td>No</td>\n",
       "      <td>66.00</td>\n",
       "      <td>Mkt&amp;HR</td>\n",
       "      <td>59.43</td>\n",
       "      <td>Not Placed</td>\n",
       "      <td>NaN</td>\n",
       "    </tr>\n",
       "    <tr>\n",
       "      <th>4</th>\n",
       "      <td>5</td>\n",
       "      <td>M</td>\n",
       "      <td>85.80</td>\n",
       "      <td>Central</td>\n",
       "      <td>73.60</td>\n",
       "      <td>Central</td>\n",
       "      <td>Commerce</td>\n",
       "      <td>73.30</td>\n",
       "      <td>Comm&amp;Mgmt</td>\n",
       "      <td>No</td>\n",
       "      <td>96.80</td>\n",
       "      <td>Mkt&amp;Fin</td>\n",
       "      <td>55.50</td>\n",
       "      <td>Placed</td>\n",
       "      <td>425000.0</td>\n",
       "    </tr>\n",
       "    <tr>\n",
       "      <th>...</th>\n",
       "      <td>...</td>\n",
       "      <td>...</td>\n",
       "      <td>...</td>\n",
       "      <td>...</td>\n",
       "      <td>...</td>\n",
       "      <td>...</td>\n",
       "      <td>...</td>\n",
       "      <td>...</td>\n",
       "      <td>...</td>\n",
       "      <td>...</td>\n",
       "      <td>...</td>\n",
       "      <td>...</td>\n",
       "      <td>...</td>\n",
       "      <td>...</td>\n",
       "      <td>...</td>\n",
       "    </tr>\n",
       "    <tr>\n",
       "      <th>195</th>\n",
       "      <td>196</td>\n",
       "      <td>M</td>\n",
       "      <td>66.00</td>\n",
       "      <td>Central</td>\n",
       "      <td>76.00</td>\n",
       "      <td>Central</td>\n",
       "      <td>Commerce</td>\n",
       "      <td>72.00</td>\n",
       "      <td>Comm&amp;Mgmt</td>\n",
       "      <td>Yes</td>\n",
       "      <td>84.00</td>\n",
       "      <td>Mkt&amp;HR</td>\n",
       "      <td>58.95</td>\n",
       "      <td>Placed</td>\n",
       "      <td>275000.0</td>\n",
       "    </tr>\n",
       "    <tr>\n",
       "      <th>196</th>\n",
       "      <td>197</td>\n",
       "      <td>M</td>\n",
       "      <td>72.00</td>\n",
       "      <td>Others</td>\n",
       "      <td>63.00</td>\n",
       "      <td>Others</td>\n",
       "      <td>Science</td>\n",
       "      <td>77.50</td>\n",
       "      <td>Sci&amp;Tech</td>\n",
       "      <td>Yes</td>\n",
       "      <td>78.00</td>\n",
       "      <td>Mkt&amp;Fin</td>\n",
       "      <td>54.48</td>\n",
       "      <td>Placed</td>\n",
       "      <td>250000.0</td>\n",
       "    </tr>\n",
       "    <tr>\n",
       "      <th>197</th>\n",
       "      <td>198</td>\n",
       "      <td>F</td>\n",
       "      <td>83.96</td>\n",
       "      <td>Others</td>\n",
       "      <td>53.00</td>\n",
       "      <td>Others</td>\n",
       "      <td>Science</td>\n",
       "      <td>91.00</td>\n",
       "      <td>Sci&amp;Tech</td>\n",
       "      <td>No</td>\n",
       "      <td>59.32</td>\n",
       "      <td>Mkt&amp;HR</td>\n",
       "      <td>69.71</td>\n",
       "      <td>Placed</td>\n",
       "      <td>260000.0</td>\n",
       "    </tr>\n",
       "    <tr>\n",
       "      <th>198</th>\n",
       "      <td>199</td>\n",
       "      <td>F</td>\n",
       "      <td>67.00</td>\n",
       "      <td>Central</td>\n",
       "      <td>70.00</td>\n",
       "      <td>Central</td>\n",
       "      <td>Commerce</td>\n",
       "      <td>65.00</td>\n",
       "      <td>Others</td>\n",
       "      <td>No</td>\n",
       "      <td>88.00</td>\n",
       "      <td>Mkt&amp;HR</td>\n",
       "      <td>71.96</td>\n",
       "      <td>Not Placed</td>\n",
       "      <td>NaN</td>\n",
       "    </tr>\n",
       "    <tr>\n",
       "      <th>199</th>\n",
       "      <td>200</td>\n",
       "      <td>M</td>\n",
       "      <td>69.00</td>\n",
       "      <td>Others</td>\n",
       "      <td>65.00</td>\n",
       "      <td>Others</td>\n",
       "      <td>Commerce</td>\n",
       "      <td>57.00</td>\n",
       "      <td>Comm&amp;Mgmt</td>\n",
       "      <td>No</td>\n",
       "      <td>73.00</td>\n",
       "      <td>Mkt&amp;HR</td>\n",
       "      <td>55.80</td>\n",
       "      <td>Placed</td>\n",
       "      <td>265000.0</td>\n",
       "    </tr>\n",
       "  </tbody>\n",
       "</table>\n",
       "<p>200 rows × 15 columns</p>\n",
       "</div>"
      ],
      "text/plain": [
       "     sl_no gender  ssc_p    ssc_b  hsc_p    hsc_b     hsc_s  degree_p  \\\n",
       "0        1      M  67.00   Others  91.00   Others  Commerce     58.00   \n",
       "1        2      M  79.33  Central  78.33   Others   Science     77.48   \n",
       "2        3      M  65.00  Central  68.00  Central      Arts     64.00   \n",
       "3        4      M  56.00  Central  52.00  Central   Science     52.00   \n",
       "4        5      M  85.80  Central  73.60  Central  Commerce     73.30   \n",
       "..     ...    ...    ...      ...    ...      ...       ...       ...   \n",
       "195    196      M  66.00  Central  76.00  Central  Commerce     72.00   \n",
       "196    197      M  72.00   Others  63.00   Others   Science     77.50   \n",
       "197    198      F  83.96   Others  53.00   Others   Science     91.00   \n",
       "198    199      F  67.00  Central  70.00  Central  Commerce     65.00   \n",
       "199    200      M  69.00   Others  65.00   Others  Commerce     57.00   \n",
       "\n",
       "      degree_t workex  etest_p specialisation  mba_p      status    salary  \n",
       "0     Sci&Tech     No    55.00         Mkt&HR  58.80      Placed  270000.0  \n",
       "1     Sci&Tech    Yes    86.50        Mkt&Fin  66.28      Placed  200000.0  \n",
       "2    Comm&Mgmt     No    75.00        Mkt&Fin  57.80      Placed  250000.0  \n",
       "3     Sci&Tech     No    66.00         Mkt&HR  59.43  Not Placed       NaN  \n",
       "4    Comm&Mgmt     No    96.80        Mkt&Fin  55.50      Placed  425000.0  \n",
       "..         ...    ...      ...            ...    ...         ...       ...  \n",
       "195  Comm&Mgmt    Yes    84.00         Mkt&HR  58.95      Placed  275000.0  \n",
       "196   Sci&Tech    Yes    78.00        Mkt&Fin  54.48      Placed  250000.0  \n",
       "197   Sci&Tech     No    59.32         Mkt&HR  69.71      Placed  260000.0  \n",
       "198     Others     No    88.00         Mkt&HR  71.96  Not Placed       NaN  \n",
       "199  Comm&Mgmt     No    73.00         Mkt&HR  55.80      Placed  265000.0  \n",
       "\n",
       "[200 rows x 15 columns]"
      ]
     },
     "execution_count": 23,
     "metadata": {},
     "output_type": "execute_result"
    }
   ],
   "source": [
    "import pandas as pd\n",
    "\n",
    "df = pd.read_csv('Placement_Data_Full_Class.csv')\n",
    "\n",
    "df.head(200)"
   ]
  },
  {
   "cell_type": "code",
   "execution_count": 24,
   "metadata": {},
   "outputs": [],
   "source": [
    "df=df.drop('sl_no', axis=1) "
   ]
  },
  {
   "cell_type": "code",
   "execution_count": 25,
   "metadata": {},
   "outputs": [
    {
     "name": "stdout",
     "output_type": "stream",
     "text": [
      "    gender  ssc_p    ssc_b  hsc_p    hsc_b     hsc_s  degree_p   degree_t  \\\n",
      "0        M  67.00   Others  91.00   Others  Commerce     58.00   Sci&Tech   \n",
      "1        M  79.33  Central  78.33   Others   Science     77.48   Sci&Tech   \n",
      "2        M  65.00  Central  68.00  Central      Arts     64.00  Comm&Mgmt   \n",
      "3        M  56.00  Central  52.00  Central   Science     52.00   Sci&Tech   \n",
      "4        M  85.80  Central  73.60  Central  Commerce     73.30  Comm&Mgmt   \n",
      "..     ...    ...      ...    ...      ...       ...       ...        ...   \n",
      "210      M  80.60   Others  82.00   Others  Commerce     77.60  Comm&Mgmt   \n",
      "211      M  58.00   Others  60.00   Others   Science     72.00   Sci&Tech   \n",
      "212      M  67.00   Others  67.00   Others  Commerce     73.00  Comm&Mgmt   \n",
      "213      F  74.00   Others  66.00   Others  Commerce     58.00  Comm&Mgmt   \n",
      "214      M  62.00  Central  58.00   Others   Science     53.00  Comm&Mgmt   \n",
      "\n",
      "    workex  etest_p specialisation  mba_p      status    salary  \n",
      "0       No     55.0         Mkt&HR  58.80      Placed  270000.0  \n",
      "1      Yes     86.5        Mkt&Fin  66.28      Placed  200000.0  \n",
      "2       No     75.0        Mkt&Fin  57.80      Placed  250000.0  \n",
      "3       No     66.0         Mkt&HR  59.43  Not Placed       NaN  \n",
      "4       No     96.8        Mkt&Fin  55.50      Placed  425000.0  \n",
      "..     ...      ...            ...    ...         ...       ...  \n",
      "210     No     91.0        Mkt&Fin  74.49      Placed  400000.0  \n",
      "211     No     74.0        Mkt&Fin  53.62      Placed  275000.0  \n",
      "212    Yes     59.0        Mkt&Fin  69.72      Placed  295000.0  \n",
      "213     No     70.0         Mkt&HR  60.23      Placed  204000.0  \n",
      "214     No     89.0         Mkt&HR  60.22  Not Placed       NaN  \n",
      "\n",
      "[215 rows x 14 columns]\n"
     ]
    }
   ],
   "source": [
    "print(df)"
   ]
  },
  {
   "cell_type": "markdown",
   "metadata": {},
   "source": [
    "### b) Determine si existen o no datos faltantes, visualice la proporción de datos faltantes en la base de datos. ¿En qué variable hay mayor cantidad de datos faltantes? ¿Qué haría en este caso con los casos con datos faltantes? Discuta."
   ]
  },
  {
   "cell_type": "code",
   "execution_count": 26,
   "metadata": {},
   "outputs": [
    {
     "name": "stdout",
     "output_type": "stream",
     "text": [
      "<class 'pandas.core.frame.DataFrame'>\n",
      "RangeIndex: 215 entries, 0 to 214\n",
      "Data columns (total 14 columns):\n",
      " #   Column          Non-Null Count  Dtype  \n",
      "---  ------          --------------  -----  \n",
      " 0   gender          215 non-null    object \n",
      " 1   ssc_p           215 non-null    float64\n",
      " 2   ssc_b           215 non-null    object \n",
      " 3   hsc_p           215 non-null    float64\n",
      " 4   hsc_b           215 non-null    object \n",
      " 5   hsc_s           215 non-null    object \n",
      " 6   degree_p        215 non-null    float64\n",
      " 7   degree_t        215 non-null    object \n",
      " 8   workex          215 non-null    object \n",
      " 9   etest_p         215 non-null    float64\n",
      " 10  specialisation  215 non-null    object \n",
      " 11  mba_p           215 non-null    float64\n",
      " 12  status          215 non-null    object \n",
      " 13  salary          148 non-null    float64\n",
      "dtypes: float64(6), object(8)\n",
      "memory usage: 23.6+ KB\n"
     ]
    }
   ],
   "source": [
    "df.info() #El salario tiene un 30% de datos faltantes y es la única variable con datos faltantes"
   ]
  },
  {
   "cell_type": "code",
   "execution_count": 27,
   "metadata": {},
   "outputs": [
    {
     "data": {
      "text/plain": [
       "<AxesSubplot:>"
      ]
     },
     "execution_count": 27,
     "metadata": {},
     "output_type": "execute_result"
    },
    {
     "data": {
      "image/png": "[encoded data removed]",
      "text/plain": [
       "<Figure size 1800x720 with 2 Axes>"
      ]
     },
     "metadata": {
      "needs_background": "light"
     },
     "output_type": "display_data"
    }
   ],
   "source": [
    "#para instalar missingno\n",
    "#conda install -c conda-forge/label/gcc7 missingno\n",
    "\n",
    "import missingno as msngo\n",
    "msngo.matrix(df)"
   ]
  },
  {
   "cell_type": "markdown",
   "metadata": {},
   "source": [
    "Debido a la cantidad de datos faltantes, aproximadamente un 30% en la variable salary, se omitirá esta columna."
   ]
  },
  {
   "cell_type": "code",
   "execution_count": 28,
   "metadata": {},
   "outputs": [],
   "source": [
    "df=df.drop('salary', axis=1) "
   ]
  },
  {
   "cell_type": "markdown",
   "metadata": {},
   "source": [
    "### c) ¿Cuántos egresados tienen una oferta de trabajo posterior al MBA? ¿Cuántos no? ¿Por qué es importante revisar esto antes o posterior a particionar la data en split de entrenamiento y test? Discuta.  "
   ]
  },
  {
   "cell_type": "code",
   "execution_count": 29,
   "metadata": {},
   "outputs": [
    {
     "data": {
      "text/plain": [
       "0          Placed\n",
       "1          Placed\n",
       "2          Placed\n",
       "3      Not Placed\n",
       "4          Placed\n",
       "          ...    \n",
       "210        Placed\n",
       "211        Placed\n",
       "212        Placed\n",
       "213        Placed\n",
       "214    Not Placed\n",
       "Name: status, Length: 215, dtype: object"
      ]
     },
     "execution_count": 29,
     "metadata": {},
     "output_type": "execute_result"
    }
   ],
   "source": [
    "df['status']"
   ]
  },
  {
   "cell_type": "code",
   "execution_count": 30,
   "metadata": {},
   "outputs": [
    {
     "name": "stdout",
     "output_type": "stream",
     "text": [
      "col_0       count\n",
      "status           \n",
      "Not Placed     67\n",
      "Placed        148\n"
     ]
    }
   ],
   "source": [
    "print(pd.crosstab(index=df[\"status\"], columns=\"count\"))"
   ]
  },
  {
   "cell_type": "markdown",
   "metadata": {},
   "source": [
    "Si tenemos clases muy desbalanceadas, esto puede indicar un problema. También lo que puede ocurrir es que en el set de entrenamiento o prueba no caigan observaciones de ambas clases."
   ]
  },
  {
   "cell_type": "markdown",
   "metadata": {},
   "source": [
    "### d) Obtenga el set de entrenamiento y testeo en una proporción 70% y 30% respectivamente (recuerde definir apropiadamente X e y). Verifique que en cada set existen observaciones de ambas clases."
   ]
  },
  {
   "cell_type": "markdown",
   "metadata": {},
   "source": [
    "Recordemos que antes de hacer el split, X debe ser una matriz numérica con toda la información de las variables predictoras. A la vez, y debe ser una columna numérica con la información de la variable target. "
   ]
  },
  {
   "cell_type": "markdown",
   "metadata": {},
   "source": [
    "##### Definir apropiadamente la matriz X de variables predictoras"
   ]
  },
  {
   "cell_type": "code",
   "execution_count": 31,
   "metadata": {},
   "outputs": [
    {
     "name": "stdout",
     "output_type": "stream",
     "text": [
      "    gender  ssc_p    ssc_b  hsc_p    hsc_b     hsc_s  degree_p   degree_t  \\\n",
      "0        M  67.00   Others  91.00   Others  Commerce     58.00   Sci&Tech   \n",
      "1        M  79.33  Central  78.33   Others   Science     77.48   Sci&Tech   \n",
      "2        M  65.00  Central  68.00  Central      Arts     64.00  Comm&Mgmt   \n",
      "3        M  56.00  Central  52.00  Central   Science     52.00   Sci&Tech   \n",
      "4        M  85.80  Central  73.60  Central  Commerce     73.30  Comm&Mgmt   \n",
      "..     ...    ...      ...    ...      ...       ...       ...        ...   \n",
      "210      M  80.60   Others  82.00   Others  Commerce     77.60  Comm&Mgmt   \n",
      "211      M  58.00   Others  60.00   Others   Science     72.00   Sci&Tech   \n",
      "212      M  67.00   Others  67.00   Others  Commerce     73.00  Comm&Mgmt   \n",
      "213      F  74.00   Others  66.00   Others  Commerce     58.00  Comm&Mgmt   \n",
      "214      M  62.00  Central  58.00   Others   Science     53.00  Comm&Mgmt   \n",
      "\n",
      "    workex  etest_p specialisation  mba_p  \n",
      "0       No     55.0         Mkt&HR  58.80  \n",
      "1      Yes     86.5        Mkt&Fin  66.28  \n",
      "2       No     75.0        Mkt&Fin  57.80  \n",
      "3       No     66.0         Mkt&HR  59.43  \n",
      "4       No     96.8        Mkt&Fin  55.50  \n",
      "..     ...      ...            ...    ...  \n",
      "210     No     91.0        Mkt&Fin  74.49  \n",
      "211     No     74.0        Mkt&Fin  53.62  \n",
      "212    Yes     59.0        Mkt&Fin  69.72  \n",
      "213     No     70.0         Mkt&HR  60.23  \n",
      "214     No     89.0         Mkt&HR  60.22  \n",
      "\n",
      "[215 rows x 12 columns]\n"
     ]
    }
   ],
   "source": [
    "X=df.drop('status', axis=1) \n",
    "\n",
    "print(X) #Debemos realizar la transformación de todas las variables categóricas como corresponden"
   ]
  },
  {
   "cell_type": "code",
   "execution_count": 32,
   "metadata": {},
   "outputs": [],
   "source": [
    "X_num=X[['ssc_p', 'hsc_p', 'degree_p', 'etest_p', 'mba_p']] #Guardamos todas las numéricas en un objeto X_num"
   ]
  },
  {
   "cell_type": "code",
   "execution_count": 33,
   "metadata": {},
   "outputs": [
    {
     "data": {
      "text/html": [
       "<div>\n",
       "<style scoped>\n",
       "    .dataframe tbody tr th:only-of-type {\n",
       "        vertical-align: middle;\n",
       "    }\n",
       "\n",
       "    .dataframe tbody tr th {\n",
       "        vertical-align: top;\n",
       "    }\n",
       "\n",
       "    .dataframe thead th {\n",
       "        text-align: right;\n",
       "    }\n",
       "</style>\n",
       "<table border=\"1\" class=\"dataframe\">\n",
       "  <thead>\n",
       "    <tr style=\"text-align: right;\">\n",
       "      <th></th>\n",
       "      <th>ssc_p</th>\n",
       "      <th>hsc_p</th>\n",
       "      <th>degree_p</th>\n",
       "      <th>etest_p</th>\n",
       "      <th>mba_p</th>\n",
       "      <th>gender_M</th>\n",
       "      <th>junta110_Others</th>\n",
       "      <th>junta1112_Others</th>\n",
       "      <th>areagr_Others</th>\n",
       "      <th>areagr_Sci&amp;Tech</th>\n",
       "      <th>exp_Yes</th>\n",
       "      <th>spec_Mkt&amp;HR</th>\n",
       "    </tr>\n",
       "  </thead>\n",
       "  <tbody>\n",
       "    <tr>\n",
       "      <th>0</th>\n",
       "      <td>67.00</td>\n",
       "      <td>91.00</td>\n",
       "      <td>58.00</td>\n",
       "      <td>55.0</td>\n",
       "      <td>58.80</td>\n",
       "      <td>1</td>\n",
       "      <td>1</td>\n",
       "      <td>1</td>\n",
       "      <td>0</td>\n",
       "      <td>1</td>\n",
       "      <td>0</td>\n",
       "      <td>1</td>\n",
       "    </tr>\n",
       "    <tr>\n",
       "      <th>1</th>\n",
       "      <td>79.33</td>\n",
       "      <td>78.33</td>\n",
       "      <td>77.48</td>\n",
       "      <td>86.5</td>\n",
       "      <td>66.28</td>\n",
       "      <td>1</td>\n",
       "      <td>0</td>\n",
       "      <td>1</td>\n",
       "      <td>0</td>\n",
       "      <td>1</td>\n",
       "      <td>1</td>\n",
       "      <td>0</td>\n",
       "    </tr>\n",
       "    <tr>\n",
       "      <th>2</th>\n",
       "      <td>65.00</td>\n",
       "      <td>68.00</td>\n",
       "      <td>64.00</td>\n",
       "      <td>75.0</td>\n",
       "      <td>57.80</td>\n",
       "      <td>1</td>\n",
       "      <td>0</td>\n",
       "      <td>0</td>\n",
       "      <td>0</td>\n",
       "      <td>0</td>\n",
       "      <td>0</td>\n",
       "      <td>0</td>\n",
       "    </tr>\n",
       "    <tr>\n",
       "      <th>3</th>\n",
       "      <td>56.00</td>\n",
       "      <td>52.00</td>\n",
       "      <td>52.00</td>\n",
       "      <td>66.0</td>\n",
       "      <td>59.43</td>\n",
       "      <td>1</td>\n",
       "      <td>0</td>\n",
       "      <td>0</td>\n",
       "      <td>0</td>\n",
       "      <td>1</td>\n",
       "      <td>0</td>\n",
       "      <td>1</td>\n",
       "    </tr>\n",
       "    <tr>\n",
       "      <th>4</th>\n",
       "      <td>85.80</td>\n",
       "      <td>73.60</td>\n",
       "      <td>73.30</td>\n",
       "      <td>96.8</td>\n",
       "      <td>55.50</td>\n",
       "      <td>1</td>\n",
       "      <td>0</td>\n",
       "      <td>0</td>\n",
       "      <td>0</td>\n",
       "      <td>0</td>\n",
       "      <td>0</td>\n",
       "      <td>0</td>\n",
       "    </tr>\n",
       "  </tbody>\n",
       "</table>\n",
       "</div>"
      ],
      "text/plain": [
       "   ssc_p  hsc_p  degree_p  etest_p  mba_p  gender_M  junta110_Others  \\\n",
       "0  67.00  91.00     58.00     55.0  58.80         1                1   \n",
       "1  79.33  78.33     77.48     86.5  66.28         1                0   \n",
       "2  65.00  68.00     64.00     75.0  57.80         1                0   \n",
       "3  56.00  52.00     52.00     66.0  59.43         1                0   \n",
       "4  85.80  73.60     73.30     96.8  55.50         1                0   \n",
       "\n",
       "   junta1112_Others  areagr_Others  areagr_Sci&Tech  exp_Yes  spec_Mkt&HR  \n",
       "0                 1              0                1        0            1  \n",
       "1                 1              0                1        1            0  \n",
       "2                 0              0                0        0            0  \n",
       "3                 0              0                1        0            1  \n",
       "4                 0              0                0        0            0  "
      ]
     },
     "execution_count": 33,
     "metadata": {},
     "output_type": "execute_result"
    }
   ],
   "source": [
    "#Las variables categóricas son:\n",
    "\n",
    "#gender, ssc_b, hsc_b, hsc_s, degree_t, workex, specialisation\n",
    "\n",
    "X_full=pd.concat([X_num, #Variables numéricas\n",
    "                 pd.get_dummies(df['gender'], drop_first = True, prefix='gender'), #Género \n",
    "                 pd.get_dummies(df['ssc_b'], drop_first = True, prefix='junta110'),   #Tipo de junta 1°-10° Grado \n",
    "                 pd.get_dummies(df['hsc_b'], drop_first = True, prefix='junta1112'), #Tipo de junta 11°-12° Grado \n",
    "                 pd.get_dummies(df['degree_t'], drop_first = True, prefix='areagr'),   #Área del grado ed superior\n",
    "                 pd.get_dummies(df['workex'], drop_first = True, prefix='exp'),   #Experiencia laboral\n",
    "                 pd.get_dummies(df['specialisation'], drop_first = True, prefix='spec'),   #Especialización MBA\n",
    "                 ], axis=1 )\n",
    "\n",
    "\n",
    "X_full.head()"
   ]
  },
  {
   "cell_type": "markdown",
   "metadata": {},
   "source": [
    "##### Definir apropiadamente la matriz Y de la variable target"
   ]
  },
  {
   "cell_type": "code",
   "execution_count": 34,
   "metadata": {},
   "outputs": [
    {
     "name": "stdout",
     "output_type": "stream",
     "text": [
      "0          Placed\n",
      "1          Placed\n",
      "2          Placed\n",
      "3      Not Placed\n",
      "4          Placed\n",
      "          ...    \n",
      "210        Placed\n",
      "211        Placed\n",
      "212        Placed\n",
      "213        Placed\n",
      "214    Not Placed\n",
      "Name: status, Length: 215, dtype: object\n"
     ]
    }
   ],
   "source": [
    "print(df['status']) #Debemos recodificar Y en unos y ceros"
   ]
  },
  {
   "cell_type": "code",
   "execution_count": 35,
   "metadata": {},
   "outputs": [
    {
     "name": "stdout",
     "output_type": "stream",
     "text": [
      "0      1\n",
      "1      1\n",
      "2      1\n",
      "3      0\n",
      "4      1\n",
      "      ..\n",
      "210    1\n",
      "211    1\n",
      "212    1\n",
      "213    1\n",
      "214    0\n",
      "Name: Placed, Length: 215, dtype: uint8\n"
     ]
    }
   ],
   "source": [
    "Y=pd.get_dummies(df['status'], drop_first = True).Placed  #get dummies crea una matrix, extraigo solo la columna Placed\n",
    "\n",
    "print(Y)"
   ]
  },
  {
   "cell_type": "markdown",
   "metadata": {},
   "source": [
    "##### Obtener el split de entrenamiento y prueba"
   ]
  },
  {
   "cell_type": "code",
   "execution_count": 36,
   "metadata": {},
   "outputs": [],
   "source": [
    "from sklearn.model_selection import train_test_split\n",
    "\n",
    "#set de entrenamiento y prueba\n",
    "\n",
    "X_train, X_test, y_train, y_test = train_test_split(X_full, Y, test_size=0.3, random_state=2020)"
   ]
  },
  {
   "cell_type": "code",
   "execution_count": 37,
   "metadata": {},
   "outputs": [
    {
     "name": "stdout",
     "output_type": "stream",
     "text": [
      "col_0   count\n",
      "Placed       \n",
      "0          43\n",
      "1         107\n"
     ]
    }
   ],
   "source": [
    "print(pd.crosstab(index=y_train, columns=\"count\")) "
   ]
  },
  {
   "cell_type": "code",
   "execution_count": 38,
   "metadata": {},
   "outputs": [
    {
     "name": "stdout",
     "output_type": "stream",
     "text": [
      "col_0   count\n",
      "Placed       \n",
      "0          24\n",
      "1          41\n"
     ]
    }
   ],
   "source": [
    "print(pd.crosstab(index=y_test, columns=\"count\")) "
   ]
  },
  {
   "cell_type": "markdown",
   "metadata": {},
   "source": [
    "### e) Entrene el árbol de decisión fijando una profundidad máxima, grafique y describa los distintos perfiles que se asocian a una mayor probabilidad de tener una oferta de trabajo una vez egresados del MBA."
   ]
  },
  {
   "cell_type": "code",
   "execution_count": 40,
   "metadata": {},
   "outputs": [
    {
     "data": {
      "text/plain": [
       "[Text(297.6, 570.7800000000001, 'ssc_p <= 55.64\\ngini = 0.409\\nsamples = 150\\nvalue = [43, 107]\\nclass = Placed'),\n",
       " Text(148.8, 407.70000000000005, 'mba_p <= 53.245\\ngini = 0.147\\nsamples = 25\\nvalue = [23, 2]\\nclass = Not Placed'),\n",
       " Text(74.4, 244.62, 'gini = 0.0\\nsamples = 1\\nvalue = [0, 1]\\nclass = Placed'),\n",
       " Text(223.20000000000002, 244.62, 'degree_p <= 70.655\\ngini = 0.08\\nsamples = 24\\nvalue = [23, 1]\\nclass = Not Placed'),\n",
       " Text(148.8, 81.53999999999996, 'gini = 0.0\\nsamples = 22\\nvalue = [22, 0]\\nclass = Not Placed'),\n",
       " Text(297.6, 81.53999999999996, 'gini = 0.5\\nsamples = 2\\nvalue = [1, 1]\\nclass = Not Placed'),\n",
       " Text(446.40000000000003, 407.70000000000005, 'hsc_p <= 50.415\\ngini = 0.269\\nsamples = 125\\nvalue = [20, 105]\\nclass = Placed'),\n",
       " Text(372.0, 244.62, 'gini = 0.0\\nsamples = 4\\nvalue = [4, 0]\\nclass = Not Placed'),\n",
       " Text(520.8000000000001, 244.62, 'ssc_p <= 64.3\\ngini = 0.229\\nsamples = 121\\nvalue = [16, 105]\\nclass = Placed'),\n",
       " Text(446.40000000000003, 81.53999999999996, 'gini = 0.431\\nsamples = 35\\nvalue = [11, 24]\\nclass = Placed'),\n",
       " Text(595.2, 81.53999999999996, 'gini = 0.11\\nsamples = 86\\nvalue = [5, 81]\\nclass = Placed')]"
      ]
     },
     "execution_count": 40,
     "metadata": {},
     "output_type": "execute_result"
    },
    {
     "data": {
      "image/png": "[encoded data removed]",
      "text/plain": [
       "<Figure size 864x864 with 1 Axes>"
      ]
     },
     "metadata": {
      "needs_background": "light"
     },
     "output_type": "display_data"
    }
   ],
   "source": [
    "from sklearn.tree import DecisionTreeClassifier, plot_tree\n",
    "from sklearn import tree\n",
    "from matplotlib import pyplot as plt\n",
    "\n",
    "model = DecisionTreeClassifier(max_depth=3).fit(X_train, y_train)\n",
    "\n",
    "fig, ax = plt.subplots(figsize=(12, 12))\n",
    "plot_tree(model, \n",
    "          filled=True, \n",
    "          feature_names=X_full.columns,\n",
    "          class_names=['Not Placed', 'Placed']) #Me gustaría más detalle en las reglas de decisión"
   ]
  },
  {
   "cell_type": "code",
   "execution_count": 41,
   "metadata": {},
   "outputs": [
    {
     "data": {
      "image/svg+xml": [
       "<?xml version=\"1.0\" encoding=\"UTF-8\" standalone=\"no\"?>\r\n",
       "<!DOCTYPE svg PUBLIC \"-//W3C//DTD SVG 1.1//EN\"\r\n",
       " \"http://www.w3.org/Graphics/SVG/1.1/DTD/svg11.dtd\">\r\n",
       "<!-- Generated by graphviz version 2.38.0 (20140413.2041)\r\n",
       " -->\r\n",
       "<!-- Title: Tree Pages: 1 -->\r\n",
       "<svg width=\"604pt\" height=\"433pt\"\r\n",
       " viewBox=\"0.00 0.00 604.00 433.00\" xmlns=\"http://www.w3.org/2000/svg\" xmlns:xlink=\"http://www.w3.org/1999/xlink\">\r\n",
       "<g id=\"graph0\" class=\"graph\" transform=\"scale(1 1) rotate(0) translate(4 429)\">\r\n",
       "<title>Tree</title>\r\n",
       "<polygon fill=\"white\" stroke=\"none\" points=\"-4,4 -4,-429 600,-429 600,4 -4,4\"/>\r\n",
       "<!-- 0 -->\r\n",
       "<g id=\"node1\" class=\"node\"><title>0</title>\r\n",
       "<polygon fill=\"#89c4ef\" stroke=\"black\" points=\"308.5,-425 197.5,-425 197.5,-342 308.5,-342 308.5,-425\"/>\r\n",
       "<text text-anchor=\"middle\" x=\"253\" y=\"-409.8\" font-family=\"Times New Roman,serif\" font-size=\"14.00\">ssc_p &lt;= 55.64</text>\r\n",
       "<text text-anchor=\"middle\" x=\"253\" y=\"-394.8\" font-family=\"Times New Roman,serif\" font-size=\"14.00\">gini = 0.409</text>\r\n",
       "<text text-anchor=\"middle\" x=\"253\" y=\"-379.8\" font-family=\"Times New Roman,serif\" font-size=\"14.00\">samples = 150</text>\r\n",
       "<text text-anchor=\"middle\" x=\"253\" y=\"-364.8\" font-family=\"Times New Roman,serif\" font-size=\"14.00\">value = [43, 107]</text>\r\n",
       "<text text-anchor=\"middle\" x=\"253\" y=\"-349.8\" font-family=\"Times New Roman,serif\" font-size=\"14.00\">class = Placed</text>\r\n",
       "</g>\r\n",
       "<!-- 1 -->\r\n",
       "<g id=\"node2\" class=\"node\"><title>1</title>\r\n",
       "<polygon fill=\"#e78c4a\" stroke=\"black\" points=\"242,-306 120,-306 120,-223 242,-223 242,-306\"/>\r\n",
       "<text text-anchor=\"middle\" x=\"181\" y=\"-290.8\" font-family=\"Times New Roman,serif\" font-size=\"14.00\">mba_p &lt;= 53.245</text>\r\n",
       "<text text-anchor=\"middle\" x=\"181\" y=\"-275.8\" font-family=\"Times New Roman,serif\" font-size=\"14.00\">gini = 0.147</text>\r\n",
       "<text text-anchor=\"middle\" x=\"181\" y=\"-260.8\" font-family=\"Times New Roman,serif\" font-size=\"14.00\">samples = 25</text>\r\n",
       "<text text-anchor=\"middle\" x=\"181\" y=\"-245.8\" font-family=\"Times New Roman,serif\" font-size=\"14.00\">value = [23, 2]</text>\r\n",
       "<text text-anchor=\"middle\" x=\"181\" y=\"-230.8\" font-family=\"Times New Roman,serif\" font-size=\"14.00\">class = Not Placed</text>\r\n",
       "</g>\r\n",
       "<!-- 0&#45;&gt;1 -->\r\n",
       "<g id=\"edge1\" class=\"edge\"><title>0&#45;&gt;1</title>\r\n",
       "<path fill=\"none\" stroke=\"black\" d=\"M228.02,-341.907C222.603,-333.105 216.817,-323.703 211.223,-314.612\"/>\r\n",
       "<polygon fill=\"black\" stroke=\"black\" points=\"214.158,-312.703 205.936,-306.021 208.196,-316.372 214.158,-312.703\"/>\r\n",
       "<text text-anchor=\"middle\" x=\"200.145\" y=\"-326.641\" font-family=\"Times New Roman,serif\" font-size=\"14.00\">True</text>\r\n",
       "</g>\r\n",
       "<!-- 6 -->\r\n",
       "<g id=\"node7\" class=\"node\"><title>6</title>\r\n",
       "<polygon fill=\"#5fb0ea\" stroke=\"black\" points=\"381.5,-306 268.5,-306 268.5,-223 381.5,-223 381.5,-306\"/>\r\n",
       "<text text-anchor=\"middle\" x=\"325\" y=\"-290.8\" font-family=\"Times New Roman,serif\" font-size=\"14.00\">hsc_p &lt;= 50.415</text>\r\n",
       "<text text-anchor=\"middle\" x=\"325\" y=\"-275.8\" font-family=\"Times New Roman,serif\" font-size=\"14.00\">gini = 0.269</text>\r\n",
       "<text text-anchor=\"middle\" x=\"325\" y=\"-260.8\" font-family=\"Times New Roman,serif\" font-size=\"14.00\">samples = 125</text>\r\n",
       "<text text-anchor=\"middle\" x=\"325\" y=\"-245.8\" font-family=\"Times New Roman,serif\" font-size=\"14.00\">value = [20, 105]</text>\r\n",
       "<text text-anchor=\"middle\" x=\"325\" y=\"-230.8\" font-family=\"Times New Roman,serif\" font-size=\"14.00\">class = Placed</text>\r\n",
       "</g>\r\n",
       "<!-- 0&#45;&gt;6 -->\r\n",
       "<g id=\"edge6\" class=\"edge\"><title>0&#45;&gt;6</title>\r\n",
       "<path fill=\"none\" stroke=\"black\" d=\"M277.98,-341.907C283.397,-333.105 289.183,-323.703 294.777,-314.612\"/>\r\n",
       "<polygon fill=\"black\" stroke=\"black\" points=\"297.804,-316.372 300.064,-306.021 291.842,-312.703 297.804,-316.372\"/>\r\n",
       "<text text-anchor=\"middle\" x=\"305.855\" y=\"-326.641\" font-family=\"Times New Roman,serif\" font-size=\"14.00\">False</text>\r\n",
       "</g>\r\n",
       "<!-- 2 -->\r\n",
       "<g id=\"node3\" class=\"node\"><title>2</title>\r\n",
       "<polygon fill=\"#399de5\" stroke=\"black\" points=\"98,-179.5 0,-179.5 0,-111.5 98,-111.5 98,-179.5\"/>\r\n",
       "<text text-anchor=\"middle\" x=\"49\" y=\"-164.3\" font-family=\"Times New Roman,serif\" font-size=\"14.00\">gini = 0.0</text>\r\n",
       "<text text-anchor=\"middle\" x=\"49\" y=\"-149.3\" font-family=\"Times New Roman,serif\" font-size=\"14.00\">samples = 1</text>\r\n",
       "<text text-anchor=\"middle\" x=\"49\" y=\"-134.3\" font-family=\"Times New Roman,serif\" font-size=\"14.00\">value = [0, 1]</text>\r\n",
       "<text text-anchor=\"middle\" x=\"49\" y=\"-119.3\" font-family=\"Times New Roman,serif\" font-size=\"14.00\">class = Placed</text>\r\n",
       "</g>\r\n",
       "<!-- 1&#45;&gt;2 -->\r\n",
       "<g id=\"edge2\" class=\"edge\"><title>1&#45;&gt;2</title>\r\n",
       "<path fill=\"none\" stroke=\"black\" d=\"M135.203,-222.907C121.883,-211.101 107.347,-198.217 94.0713,-186.45\"/>\r\n",
       "<polygon fill=\"black\" stroke=\"black\" points=\"96.2242,-183.681 86.4191,-179.667 91.581,-188.919 96.2242,-183.681\"/>\r\n",
       "</g>\r\n",
       "<!-- 3 -->\r\n",
       "<g id=\"node4\" class=\"node\"><title>3</title>\r\n",
       "<polygon fill=\"#e68642\" stroke=\"black\" points=\"246,-187 116,-187 116,-104 246,-104 246,-187\"/>\r\n",
       "<text text-anchor=\"middle\" x=\"181\" y=\"-171.8\" font-family=\"Times New Roman,serif\" font-size=\"14.00\">degree_p &lt;= 70.655</text>\r\n",
       "<text text-anchor=\"middle\" x=\"181\" y=\"-156.8\" font-family=\"Times New Roman,serif\" font-size=\"14.00\">gini = 0.08</text>\r\n",
       "<text text-anchor=\"middle\" x=\"181\" y=\"-141.8\" font-family=\"Times New Roman,serif\" font-size=\"14.00\">samples = 24</text>\r\n",
       "<text text-anchor=\"middle\" x=\"181\" y=\"-126.8\" font-family=\"Times New Roman,serif\" font-size=\"14.00\">value = [23, 1]</text>\r\n",
       "<text text-anchor=\"middle\" x=\"181\" y=\"-111.8\" font-family=\"Times New Roman,serif\" font-size=\"14.00\">class = Not Placed</text>\r\n",
       "</g>\r\n",
       "<!-- 1&#45;&gt;3 -->\r\n",
       "<g id=\"edge3\" class=\"edge\"><title>1&#45;&gt;3</title>\r\n",
       "<path fill=\"none\" stroke=\"black\" d=\"M181,-222.907C181,-214.649 181,-205.864 181,-197.302\"/>\r\n",
       "<polygon fill=\"black\" stroke=\"black\" points=\"184.5,-197.021 181,-187.021 177.5,-197.021 184.5,-197.021\"/>\r\n",
       "</g>\r\n",
       "<!-- 4 -->\r\n",
       "<g id=\"node5\" class=\"node\"><title>4</title>\r\n",
       "<polygon fill=\"#e58139\" stroke=\"black\" points=\"187,-68 65,-68 65,-0 187,-0 187,-68\"/>\r\n",
       "<text text-anchor=\"middle\" x=\"126\" y=\"-52.8\" font-family=\"Times New Roman,serif\" font-size=\"14.00\">gini = 0.0</text>\r\n",
       "<text text-anchor=\"middle\" x=\"126\" y=\"-37.8\" font-family=\"Times New Roman,serif\" font-size=\"14.00\">samples = 22</text>\r\n",
       "<text text-anchor=\"middle\" x=\"126\" y=\"-22.8\" font-family=\"Times New Roman,serif\" font-size=\"14.00\">value = [22, 0]</text>\r\n",
       "<text text-anchor=\"middle\" x=\"126\" y=\"-7.8\" font-family=\"Times New Roman,serif\" font-size=\"14.00\">class = Not Placed</text>\r\n",
       "</g>\r\n",
       "<!-- 3&#45;&gt;4 -->\r\n",
       "<g id=\"edge4\" class=\"edge\"><title>3&#45;&gt;4</title>\r\n",
       "<path fill=\"none\" stroke=\"black\" d=\"M160.52,-103.726C156.214,-95.1527 151.661,-86.0891 147.325,-77.4555\"/>\r\n",
       "<polygon fill=\"black\" stroke=\"black\" points=\"150.342,-75.6647 142.726,-68.2996 144.087,-78.8067 150.342,-75.6647\"/>\r\n",
       "</g>\r\n",
       "<!-- 5 -->\r\n",
       "<g id=\"node6\" class=\"node\"><title>5</title>\r\n",
       "<polygon fill=\"#ffffff\" stroke=\"black\" points=\"327,-68 205,-68 205,-0 327,-0 327,-68\"/>\r\n",
       "<text text-anchor=\"middle\" x=\"266\" y=\"-52.8\" font-family=\"Times New Roman,serif\" font-size=\"14.00\">gini = 0.5</text>\r\n",
       "<text text-anchor=\"middle\" x=\"266\" y=\"-37.8\" font-family=\"Times New Roman,serif\" font-size=\"14.00\">samples = 2</text>\r\n",
       "<text text-anchor=\"middle\" x=\"266\" y=\"-22.8\" font-family=\"Times New Roman,serif\" font-size=\"14.00\">value = [1, 1]</text>\r\n",
       "<text text-anchor=\"middle\" x=\"266\" y=\"-7.8\" font-family=\"Times New Roman,serif\" font-size=\"14.00\">class = Not Placed</text>\r\n",
       "</g>\r\n",
       "<!-- 3&#45;&gt;5 -->\r\n",
       "<g id=\"edge5\" class=\"edge\"><title>3&#45;&gt;5</title>\r\n",
       "<path fill=\"none\" stroke=\"black\" d=\"M212.651,-103.726C219.589,-94.7878 226.941,-85.3168 233.897,-76.3558\"/>\r\n",
       "<polygon fill=\"black\" stroke=\"black\" points=\"236.784,-78.3451 240.151,-68.2996 231.254,-74.0528 236.784,-78.3451\"/>\r\n",
       "</g>\r\n",
       "<!-- 7 -->\r\n",
       "<g id=\"node8\" class=\"node\"><title>7</title>\r\n",
       "<polygon fill=\"#e58139\" stroke=\"black\" points=\"386,-179.5 264,-179.5 264,-111.5 386,-111.5 386,-179.5\"/>\r\n",
       "<text text-anchor=\"middle\" x=\"325\" y=\"-164.3\" font-family=\"Times New Roman,serif\" font-size=\"14.00\">gini = 0.0</text>\r\n",
       "<text text-anchor=\"middle\" x=\"325\" y=\"-149.3\" font-family=\"Times New Roman,serif\" font-size=\"14.00\">samples = 4</text>\r\n",
       "<text text-anchor=\"middle\" x=\"325\" y=\"-134.3\" font-family=\"Times New Roman,serif\" font-size=\"14.00\">value = [4, 0]</text>\r\n",
       "<text text-anchor=\"middle\" x=\"325\" y=\"-119.3\" font-family=\"Times New Roman,serif\" font-size=\"14.00\">class = Not Placed</text>\r\n",
       "</g>\r\n",
       "<!-- 6&#45;&gt;7 -->\r\n",
       "<g id=\"edge7\" class=\"edge\"><title>6&#45;&gt;7</title>\r\n",
       "<path fill=\"none\" stroke=\"black\" d=\"M325,-222.907C325,-212.204 325,-200.615 325,-189.776\"/>\r\n",
       "<polygon fill=\"black\" stroke=\"black\" points=\"328.5,-189.667 325,-179.667 321.5,-189.667 328.5,-189.667\"/>\r\n",
       "</g>\r\n",
       "<!-- 8 -->\r\n",
       "<g id=\"node9\" class=\"node\"><title>8</title>\r\n",
       "<polygon fill=\"#57ace9\" stroke=\"black\" points=\"515.5,-187 404.5,-187 404.5,-104 515.5,-104 515.5,-187\"/>\r\n",
       "<text text-anchor=\"middle\" x=\"460\" y=\"-171.8\" font-family=\"Times New Roman,serif\" font-size=\"14.00\">ssc_p &lt;= 64.3</text>\r\n",
       "<text text-anchor=\"middle\" x=\"460\" y=\"-156.8\" font-family=\"Times New Roman,serif\" font-size=\"14.00\">gini = 0.229</text>\r\n",
       "<text text-anchor=\"middle\" x=\"460\" y=\"-141.8\" font-family=\"Times New Roman,serif\" font-size=\"14.00\">samples = 121</text>\r\n",
       "<text text-anchor=\"middle\" x=\"460\" y=\"-126.8\" font-family=\"Times New Roman,serif\" font-size=\"14.00\">value = [16, 105]</text>\r\n",
       "<text text-anchor=\"middle\" x=\"460\" y=\"-111.8\" font-family=\"Times New Roman,serif\" font-size=\"14.00\">class = Placed</text>\r\n",
       "</g>\r\n",
       "<!-- 6&#45;&gt;8 -->\r\n",
       "<g id=\"edge8\" class=\"edge\"><title>6&#45;&gt;8</title>\r\n",
       "<path fill=\"none\" stroke=\"black\" d=\"M371.838,-222.907C382.728,-213.469 394.412,-203.343 405.597,-193.649\"/>\r\n",
       "<polygon fill=\"black\" stroke=\"black\" points=\"407.981,-196.215 413.245,-187.021 403.396,-190.925 407.981,-196.215\"/>\r\n",
       "</g>\r\n",
       "<!-- 9 -->\r\n",
       "<g id=\"node10\" class=\"node\"><title>9</title>\r\n",
       "<polygon fill=\"#94caf1\" stroke=\"black\" points=\"480,-68 376,-68 376,-0 480,-0 480,-68\"/>\r\n",
       "<text text-anchor=\"middle\" x=\"428\" y=\"-52.8\" font-family=\"Times New Roman,serif\" font-size=\"14.00\">gini = 0.431</text>\r\n",
       "<text text-anchor=\"middle\" x=\"428\" y=\"-37.8\" font-family=\"Times New Roman,serif\" font-size=\"14.00\">samples = 35</text>\r\n",
       "<text text-anchor=\"middle\" x=\"428\" y=\"-22.8\" font-family=\"Times New Roman,serif\" font-size=\"14.00\">value = [11, 24]</text>\r\n",
       "<text text-anchor=\"middle\" x=\"428\" y=\"-7.8\" font-family=\"Times New Roman,serif\" font-size=\"14.00\">class = Placed</text>\r\n",
       "</g>\r\n",
       "<!-- 8&#45;&gt;9 -->\r\n",
       "<g id=\"edge9\" class=\"edge\"><title>8&#45;&gt;9</title>\r\n",
       "<path fill=\"none\" stroke=\"black\" d=\"M448.084,-103.726C445.632,-95.3351 443.043,-86.4745 440.568,-78.0072\"/>\r\n",
       "<polygon fill=\"black\" stroke=\"black\" points=\"443.896,-76.9163 437.731,-68.2996 437.177,-78.8799 443.896,-76.9163\"/>\r\n",
       "</g>\r\n",
       "<!-- 10 -->\r\n",
       "<g id=\"node11\" class=\"node\"><title>10</title>\r\n",
       "<polygon fill=\"#45a3e7\" stroke=\"black\" points=\"596,-68 498,-68 498,-0 596,-0 596,-68\"/>\r\n",
       "<text text-anchor=\"middle\" x=\"547\" y=\"-52.8\" font-family=\"Times New Roman,serif\" font-size=\"14.00\">gini = 0.11</text>\r\n",
       "<text text-anchor=\"middle\" x=\"547\" y=\"-37.8\" font-family=\"Times New Roman,serif\" font-size=\"14.00\">samples = 86</text>\r\n",
       "<text text-anchor=\"middle\" x=\"547\" y=\"-22.8\" font-family=\"Times New Roman,serif\" font-size=\"14.00\">value = [5, 81]</text>\r\n",
       "<text text-anchor=\"middle\" x=\"547\" y=\"-7.8\" font-family=\"Times New Roman,serif\" font-size=\"14.00\">class = Placed</text>\r\n",
       "</g>\r\n",
       "<!-- 8&#45;&gt;10 -->\r\n",
       "<g id=\"edge10\" class=\"edge\"><title>8&#45;&gt;10</title>\r\n",
       "<path fill=\"none\" stroke=\"black\" d=\"M492.396,-103.726C499.497,-94.7878 507.022,-85.3168 514.142,-76.3558\"/>\r\n",
       "<polygon fill=\"black\" stroke=\"black\" points=\"517.062,-78.3065 520.543,-68.2996 511.582,-73.9519 517.062,-78.3065\"/>\r\n",
       "</g>\r\n",
       "</g>\r\n",
       "</svg>\r\n"
      ],
      "text/plain": [
       "<graphviz.files.Source at 0x19991b8ef10>"
      ]
     },
     "execution_count": 41,
     "metadata": {},
     "output_type": "execute_result"
    }
   ],
   "source": [
    "#conda install -c anaconda python-graphviz\n",
    "\n",
    "import graphviz\n",
    "\n",
    "treegr = tree.export_graphviz(model, out_file=None, \n",
    "                                 feature_names=X_full.columns,\n",
    "                                 class_names=['Not Placed', 'Placed'],\n",
    "                                 filled=True)\n",
    "\n",
    "# Draw graph\n",
    "graph =  graphviz.Source(treegr, format=\"png\") \n",
    "graph"
   ]
  },
  {
   "cell_type": "markdown",
   "metadata": {},
   "source": [
    "### f) Evalúe el poder predictivo del árbol anterior. ¿Confiaría usted en este árbol como una herramienta para predecir si un egresado del MBA encontrará trabajo? ¿Y para predecir si NO encontrará trabajo? Discuta. "
   ]
  },
  {
   "cell_type": "code",
   "execution_count": 42,
   "metadata": {},
   "outputs": [
    {
     "data": {
      "text/plain": [
       "array([1, 1, 1, 1, 0, 1, 0, 1, 1, 1, 1, 1, 1, 1, 1, 1, 1, 1, 1, 1, 1, 0,\n",
       "       1, 0, 1, 1, 1, 1, 0, 1, 1, 1, 1, 0, 1, 1, 1, 1, 1, 1, 1, 1, 1, 0,\n",
       "       1, 1, 1, 1, 1, 1, 1, 1, 1, 1, 1, 1, 1, 1, 1, 1, 0, 1, 1, 1, 0],\n",
       "      dtype=uint8)"
      ]
     },
     "execution_count": 42,
     "metadata": {},
     "output_type": "execute_result"
    }
   ],
   "source": [
    "model.predict(X_test) #Entrega la predicción de cada observación"
   ]
  },
  {
   "cell_type": "code",
   "execution_count": 43,
   "metadata": {},
   "outputs": [
    {
     "data": {
      "image/png": "[encoded data removed]",
      "text/plain": [
       "<Figure size 432x288 with 2 Axes>"
      ]
     },
     "metadata": {
      "needs_background": "light"
     },
     "output_type": "display_data"
    }
   ],
   "source": [
    "from sklearn.metrics import classification_report, confusion_matrix\n",
    "\n",
    "y_pred = model.predict(X_test)\n",
    "\n",
    "cm=confusion_matrix(y_test, y_pred)\n",
    "\n",
    "from sklearn.metrics import ConfusionMatrixDisplay\n",
    "\n",
    "cm_display = ConfusionMatrixDisplay(cm, display_labels=[0, 1])\n",
    "cm_display.plot(cmap='Blues');\n",
    "plt.grid(None);\n"
   ]
  },
  {
   "cell_type": "code",
   "execution_count": 44,
   "metadata": {},
   "outputs": [
    {
     "name": "stdout",
     "output_type": "stream",
     "text": [
      "              precision    recall  f1-score   support\n",
      "\n",
      "           0       0.89      0.33      0.48        24\n",
      "           1       0.71      0.98      0.82        41\n",
      "\n",
      "    accuracy                           0.74        65\n",
      "   macro avg       0.80      0.65      0.65        65\n",
      "weighted avg       0.78      0.74      0.70        65\n",
      "\n"
     ]
    }
   ],
   "source": [
    "print(classification_report(y_test, y_pred))"
   ]
  },
  {
   "cell_type": "markdown",
   "metadata": {},
   "source": [
    "A simple vista, pareciera que el modelo predice bastante bien los casos positivos (Placed). Sin embargo, notar que de 65 observaciones, 40 casos son Verdaderos positivos y 16 casos son Falsos positivos, lo que puede estar pasando es que el modelo predice demasiados positivos. A priori no podría tomar una decisión, pues hay muy pocos datos, volvería a recopilar más data y probar si el modelo realmente tiene capacidad predictiva."
   ]
  },
  {
   "cell_type": "markdown",
   "metadata": {},
   "source": [
    "### g) Pruebe alguna variante relacionada con los árboles de decisión y evalúe nuevamente el poder predictivo. ¿Cuál es el pero de esta opción? Comente."
   ]
  },
  {
   "cell_type": "markdown",
   "metadata": {},
   "source": [
    "Usaré dos variantes, la primera: Buscar los mejores parámetros con validación cruzada. La segunda, un bosque de árboles."
   ]
  },
  {
   "cell_type": "markdown",
   "metadata": {},
   "source": [
    "##### Grilla de parámetros en Validación Cruzada"
   ]
  },
  {
   "cell_type": "code",
   "execution_count": 46,
   "metadata": {},
   "outputs": [],
   "source": [
    "import numpy as np\n",
    "param_grid = { 'criterion':['gini','entropy'],'max_depth': np.arange(2, 10)}   #Grilla de valores a probar"
   ]
  },
  {
   "cell_type": "code",
   "execution_count": 47,
   "metadata": {},
   "outputs": [],
   "source": [
    "model_2=DecisionTreeClassifier()"
   ]
  },
  {
   "cell_type": "code",
   "execution_count": 48,
   "metadata": {},
   "outputs": [
    {
     "data": {
      "text/plain": [
       "{'criterion': 'entropy', 'max_depth': 4}"
      ]
     },
     "execution_count": 48,
     "metadata": {},
     "output_type": "execute_result"
    }
   ],
   "source": [
    "from sklearn.model_selection import GridSearchCV\n",
    "\n",
    "nfolds=10\n",
    "\n",
    "dtree_gscv = GridSearchCV(model_2, param_grid, cv=nfolds)\n",
    "\n",
    "dtree_gscv.fit(X_train, y_train)\n",
    "\n",
    "dtree_gscv.best_params_"
   ]
  },
  {
   "cell_type": "markdown",
   "metadata": {},
   "source": [
    "Obtenemos que los mejores parámetros son: Criterio de separación de Entropía o Ganancia de Información y una profundidad máxima de 10."
   ]
  },
  {
   "cell_type": "code",
   "execution_count": 49,
   "metadata": {},
   "outputs": [],
   "source": [
    "model_cv = DecisionTreeClassifier(max_depth=4, criterion='entropy').fit(X_train, y_train)"
   ]
  },
  {
   "cell_type": "code",
   "execution_count": 50,
   "metadata": {},
   "outputs": [
    {
     "data": {
      "image/svg+xml": [
       "<?xml version=\"1.0\" encoding=\"UTF-8\" standalone=\"no\"?>\r\n",
       "<!DOCTYPE svg PUBLIC \"-//W3C//DTD SVG 1.1//EN\"\r\n",
       " \"http://www.w3.org/Graphics/SVG/1.1/DTD/svg11.dtd\">\r\n",
       "<!-- Generated by graphviz version 2.38.0 (20140413.2041)\r\n",
       " -->\r\n",
       "<!-- Title: Tree Pages: 1 -->\r\n",
       "<svg width=\"646pt\" height=\"552pt\"\r\n",
       " viewBox=\"0.00 0.00 646.00 552.00\" xmlns=\"http://www.w3.org/2000/svg\" xmlns:xlink=\"http://www.w3.org/1999/xlink\">\r\n",
       "<g id=\"graph0\" class=\"graph\" transform=\"scale(1 1) rotate(0) translate(4 548)\">\r\n",
       "<title>Tree</title>\r\n",
       "<polygon fill=\"white\" stroke=\"none\" points=\"-4,4 -4,-548 642,-548 642,4 -4,4\"/>\r\n",
       "<!-- 0 -->\r\n",
       "<g id=\"node1\" class=\"node\"><title>0</title>\r\n",
       "<polygon fill=\"#89c4ef\" stroke=\"black\" points=\"391.5,-544 280.5,-544 280.5,-461 391.5,-461 391.5,-544\"/>\r\n",
       "<text text-anchor=\"middle\" x=\"336\" y=\"-528.8\" font-family=\"Times New Roman,serif\" font-size=\"14.00\">ssc_p &lt;= 55.64</text>\r\n",
       "<text text-anchor=\"middle\" x=\"336\" y=\"-513.8\" font-family=\"Times New Roman,serif\" font-size=\"14.00\">entropy = 0.864</text>\r\n",
       "<text text-anchor=\"middle\" x=\"336\" y=\"-498.8\" font-family=\"Times New Roman,serif\" font-size=\"14.00\">samples = 150</text>\r\n",
       "<text text-anchor=\"middle\" x=\"336\" y=\"-483.8\" font-family=\"Times New Roman,serif\" font-size=\"14.00\">value = [43, 107]</text>\r\n",
       "<text text-anchor=\"middle\" x=\"336\" y=\"-468.8\" font-family=\"Times New Roman,serif\" font-size=\"14.00\">class = Placed</text>\r\n",
       "</g>\r\n",
       "<!-- 1 -->\r\n",
       "<g id=\"node2\" class=\"node\"><title>1</title>\r\n",
       "<polygon fill=\"#e78c4a\" stroke=\"black\" points=\"325,-425 203,-425 203,-342 325,-342 325,-425\"/>\r\n",
       "<text text-anchor=\"middle\" x=\"264\" y=\"-409.8\" font-family=\"Times New Roman,serif\" font-size=\"14.00\">mba_p &lt;= 56.88</text>\r\n",
       "<text text-anchor=\"middle\" x=\"264\" y=\"-394.8\" font-family=\"Times New Roman,serif\" font-size=\"14.00\">entropy = 0.402</text>\r\n",
       "<text text-anchor=\"middle\" x=\"264\" y=\"-379.8\" font-family=\"Times New Roman,serif\" font-size=\"14.00\">samples = 25</text>\r\n",
       "<text text-anchor=\"middle\" x=\"264\" y=\"-364.8\" font-family=\"Times New Roman,serif\" font-size=\"14.00\">value = [23, 2]</text>\r\n",
       "<text text-anchor=\"middle\" x=\"264\" y=\"-349.8\" font-family=\"Times New Roman,serif\" font-size=\"14.00\">class = Not Placed</text>\r\n",
       "</g>\r\n",
       "<!-- 0&#45;&gt;1 -->\r\n",
       "<g id=\"edge1\" class=\"edge\"><title>0&#45;&gt;1</title>\r\n",
       "<path fill=\"none\" stroke=\"black\" d=\"M311.02,-460.907C305.603,-452.105 299.817,-442.703 294.223,-433.612\"/>\r\n",
       "<polygon fill=\"black\" stroke=\"black\" points=\"297.158,-431.703 288.936,-425.021 291.196,-435.372 297.158,-431.703\"/>\r\n",
       "<text text-anchor=\"middle\" x=\"283.145\" y=\"-445.641\" font-family=\"Times New Roman,serif\" font-size=\"14.00\">True</text>\r\n",
       "</g>\r\n",
       "<!-- 6 -->\r\n",
       "<g id=\"node7\" class=\"node\"><title>6</title>\r\n",
       "<polygon fill=\"#5fb0ea\" stroke=\"black\" points=\"463.5,-425 352.5,-425 352.5,-342 463.5,-342 463.5,-425\"/>\r\n",
       "<text text-anchor=\"middle\" x=\"408\" y=\"-409.8\" font-family=\"Times New Roman,serif\" font-size=\"14.00\">exp_Yes &lt;= 0.5</text>\r\n",
       "<text text-anchor=\"middle\" x=\"408\" y=\"-394.8\" font-family=\"Times New Roman,serif\" font-size=\"14.00\">entropy = 0.634</text>\r\n",
       "<text text-anchor=\"middle\" x=\"408\" y=\"-379.8\" font-family=\"Times New Roman,serif\" font-size=\"14.00\">samples = 125</text>\r\n",
       "<text text-anchor=\"middle\" x=\"408\" y=\"-364.8\" font-family=\"Times New Roman,serif\" font-size=\"14.00\">value = [20, 105]</text>\r\n",
       "<text text-anchor=\"middle\" x=\"408\" y=\"-349.8\" font-family=\"Times New Roman,serif\" font-size=\"14.00\">class = Placed</text>\r\n",
       "</g>\r\n",
       "<!-- 0&#45;&gt;6 -->\r\n",
       "<g id=\"edge6\" class=\"edge\"><title>0&#45;&gt;6</title>\r\n",
       "<path fill=\"none\" stroke=\"black\" d=\"M360.98,-460.907C366.397,-452.105 372.183,-442.703 377.777,-433.612\"/>\r\n",
       "<polygon fill=\"black\" stroke=\"black\" points=\"380.804,-435.372 383.064,-425.021 374.842,-431.703 380.804,-435.372\"/>\r\n",
       "<text text-anchor=\"middle\" x=\"388.855\" y=\"-445.641\" font-family=\"Times New Roman,serif\" font-size=\"14.00\">False</text>\r\n",
       "</g>\r\n",
       "<!-- 2 -->\r\n",
       "<g id=\"node3\" class=\"node\"><title>2</title>\r\n",
       "<polygon fill=\"#ffffff\" stroke=\"black\" points=\"184.5,-306 35.5,-306 35.5,-223 184.5,-223 184.5,-306\"/>\r\n",
       "<text text-anchor=\"middle\" x=\"110\" y=\"-290.8\" font-family=\"Times New Roman,serif\" font-size=\"14.00\">junta110_Others &lt;= 0.5</text>\r\n",
       "<text text-anchor=\"middle\" x=\"110\" y=\"-275.8\" font-family=\"Times New Roman,serif\" font-size=\"14.00\">entropy = 1.0</text>\r\n",
       "<text text-anchor=\"middle\" x=\"110\" y=\"-260.8\" font-family=\"Times New Roman,serif\" font-size=\"14.00\">samples = 4</text>\r\n",
       "<text text-anchor=\"middle\" x=\"110\" y=\"-245.8\" font-family=\"Times New Roman,serif\" font-size=\"14.00\">value = [2, 2]</text>\r\n",
       "<text text-anchor=\"middle\" x=\"110\" y=\"-230.8\" font-family=\"Times New Roman,serif\" font-size=\"14.00\">class = Not Placed</text>\r\n",
       "</g>\r\n",
       "<!-- 1&#45;&gt;2 -->\r\n",
       "<g id=\"edge2\" class=\"edge\"><title>1&#45;&gt;2</title>\r\n",
       "<path fill=\"none\" stroke=\"black\" d=\"M210.57,-341.907C197.909,-332.288 184.306,-321.953 171.324,-312.09\"/>\r\n",
       "<polygon fill=\"black\" stroke=\"black\" points=\"173.415,-309.283 163.335,-306.021 169.18,-314.857 173.415,-309.283\"/>\r\n",
       "</g>\r\n",
       "<!-- 5 -->\r\n",
       "<g id=\"node6\" class=\"node\"><title>5</title>\r\n",
       "<polygon fill=\"#e58139\" stroke=\"black\" points=\"325,-298.5 203,-298.5 203,-230.5 325,-230.5 325,-298.5\"/>\r\n",
       "<text text-anchor=\"middle\" x=\"264\" y=\"-283.3\" font-family=\"Times New Roman,serif\" font-size=\"14.00\">entropy = 0.0</text>\r\n",
       "<text text-anchor=\"middle\" x=\"264\" y=\"-268.3\" font-family=\"Times New Roman,serif\" font-size=\"14.00\">samples = 21</text>\r\n",
       "<text text-anchor=\"middle\" x=\"264\" y=\"-253.3\" font-family=\"Times New Roman,serif\" font-size=\"14.00\">value = [21, 0]</text>\r\n",
       "<text text-anchor=\"middle\" x=\"264\" y=\"-238.3\" font-family=\"Times New Roman,serif\" font-size=\"14.00\">class = Not Placed</text>\r\n",
       "</g>\r\n",
       "<!-- 1&#45;&gt;5 -->\r\n",
       "<g id=\"edge5\" class=\"edge\"><title>1&#45;&gt;5</title>\r\n",
       "<path fill=\"none\" stroke=\"black\" d=\"M264,-341.907C264,-331.204 264,-319.615 264,-308.776\"/>\r\n",
       "<polygon fill=\"black\" stroke=\"black\" points=\"267.5,-308.667 264,-298.667 260.5,-308.667 267.5,-308.667\"/>\r\n",
       "</g>\r\n",
       "<!-- 3 -->\r\n",
       "<g id=\"node4\" class=\"node\"><title>3</title>\r\n",
       "<polygon fill=\"#399de5\" stroke=\"black\" points=\"98,-179.5 0,-179.5 0,-111.5 98,-111.5 98,-179.5\"/>\r\n",
       "<text text-anchor=\"middle\" x=\"49\" y=\"-164.3\" font-family=\"Times New Roman,serif\" font-size=\"14.00\">entropy = 0.0</text>\r\n",
       "<text text-anchor=\"middle\" x=\"49\" y=\"-149.3\" font-family=\"Times New Roman,serif\" font-size=\"14.00\">samples = 2</text>\r\n",
       "<text text-anchor=\"middle\" x=\"49\" y=\"-134.3\" font-family=\"Times New Roman,serif\" font-size=\"14.00\">value = [0, 2]</text>\r\n",
       "<text text-anchor=\"middle\" x=\"49\" y=\"-119.3\" font-family=\"Times New Roman,serif\" font-size=\"14.00\">class = Placed</text>\r\n",
       "</g>\r\n",
       "<!-- 2&#45;&gt;3 -->\r\n",
       "<g id=\"edge3\" class=\"edge\"><title>2&#45;&gt;3</title>\r\n",
       "<path fill=\"none\" stroke=\"black\" d=\"M88.8364,-222.907C83.0833,-211.873 76.8398,-199.898 71.0396,-188.773\"/>\r\n",
       "<polygon fill=\"black\" stroke=\"black\" points=\"74.0188,-186.916 66.2922,-179.667 67.8118,-190.152 74.0188,-186.916\"/>\r\n",
       "</g>\r\n",
       "<!-- 4 -->\r\n",
       "<g id=\"node5\" class=\"node\"><title>4</title>\r\n",
       "<polygon fill=\"#e58139\" stroke=\"black\" points=\"238,-179.5 116,-179.5 116,-111.5 238,-111.5 238,-179.5\"/>\r\n",
       "<text text-anchor=\"middle\" x=\"177\" y=\"-164.3\" font-family=\"Times New Roman,serif\" font-size=\"14.00\">entropy = 0.0</text>\r\n",
       "<text text-anchor=\"middle\" x=\"177\" y=\"-149.3\" font-family=\"Times New Roman,serif\" font-size=\"14.00\">samples = 2</text>\r\n",
       "<text text-anchor=\"middle\" x=\"177\" y=\"-134.3\" font-family=\"Times New Roman,serif\" font-size=\"14.00\">value = [2, 0]</text>\r\n",
       "<text text-anchor=\"middle\" x=\"177\" y=\"-119.3\" font-family=\"Times New Roman,serif\" font-size=\"14.00\">class = Not Placed</text>\r\n",
       "</g>\r\n",
       "<!-- 2&#45;&gt;4 -->\r\n",
       "<g id=\"edge4\" class=\"edge\"><title>2&#45;&gt;4</title>\r\n",
       "<path fill=\"none\" stroke=\"black\" d=\"M133.245,-222.907C139.627,-211.763 146.559,-199.658 152.984,-188.439\"/>\r\n",
       "<polygon fill=\"black\" stroke=\"black\" points=\"156.075,-190.084 158.007,-179.667 150,-186.606 156.075,-190.084\"/>\r\n",
       "</g>\r\n",
       "<!-- 7 -->\r\n",
       "<g id=\"node8\" class=\"node\"><title>7</title>\r\n",
       "<polygon fill=\"#7dbfee\" stroke=\"black\" points=\"473,-306 343,-306 343,-223 473,-223 473,-306\"/>\r\n",
       "<text text-anchor=\"middle\" x=\"408\" y=\"-290.8\" font-family=\"Times New Roman,serif\" font-size=\"14.00\">degree_p &lt;= 64.355</text>\r\n",
       "<text text-anchor=\"middle\" x=\"408\" y=\"-275.8\" font-family=\"Times New Roman,serif\" font-size=\"14.00\">entropy = 0.821</text>\r\n",
       "<text text-anchor=\"middle\" x=\"408\" y=\"-260.8\" font-family=\"Times New Roman,serif\" font-size=\"14.00\">samples = 78</text>\r\n",
       "<text text-anchor=\"middle\" x=\"408\" y=\"-245.8\" font-family=\"Times New Roman,serif\" font-size=\"14.00\">value = [20, 58]</text>\r\n",
       "<text text-anchor=\"middle\" x=\"408\" y=\"-230.8\" font-family=\"Times New Roman,serif\" font-size=\"14.00\">class = Placed</text>\r\n",
       "</g>\r\n",
       "<!-- 6&#45;&gt;7 -->\r\n",
       "<g id=\"edge7\" class=\"edge\"><title>6&#45;&gt;7</title>\r\n",
       "<path fill=\"none\" stroke=\"black\" d=\"M408,-341.907C408,-333.649 408,-324.864 408,-316.302\"/>\r\n",
       "<polygon fill=\"black\" stroke=\"black\" points=\"411.5,-316.021 408,-306.021 404.5,-316.021 411.5,-316.021\"/>\r\n",
       "</g>\r\n",
       "<!-- 14 -->\r\n",
       "<g id=\"node15\" class=\"node\"><title>14</title>\r\n",
       "<polygon fill=\"#399de5\" stroke=\"black\" points=\"589,-298.5 491,-298.5 491,-230.5 589,-230.5 589,-298.5\"/>\r\n",
       "<text text-anchor=\"middle\" x=\"540\" y=\"-283.3\" font-family=\"Times New Roman,serif\" font-size=\"14.00\">entropy = 0.0</text>\r\n",
       "<text text-anchor=\"middle\" x=\"540\" y=\"-268.3\" font-family=\"Times New Roman,serif\" font-size=\"14.00\">samples = 47</text>\r\n",
       "<text text-anchor=\"middle\" x=\"540\" y=\"-253.3\" font-family=\"Times New Roman,serif\" font-size=\"14.00\">value = [0, 47]</text>\r\n",
       "<text text-anchor=\"middle\" x=\"540\" y=\"-238.3\" font-family=\"Times New Roman,serif\" font-size=\"14.00\">class = Placed</text>\r\n",
       "</g>\r\n",
       "<!-- 6&#45;&gt;14 -->\r\n",
       "<g id=\"edge14\" class=\"edge\"><title>6&#45;&gt;14</title>\r\n",
       "<path fill=\"none\" stroke=\"black\" d=\"M453.797,-341.907C467.117,-330.101 481.653,-317.217 494.929,-305.45\"/>\r\n",
       "<polygon fill=\"black\" stroke=\"black\" points=\"497.419,-307.919 502.581,-298.667 492.776,-302.681 497.419,-307.919\"/>\r\n",
       "</g>\r\n",
       "<!-- 8 -->\r\n",
       "<g id=\"node9\" class=\"node\"><title>8</title>\r\n",
       "<polygon fill=\"#f9e2d1\" stroke=\"black\" points=\"393,-187 271,-187 271,-104 393,-104 393,-187\"/>\r\n",
       "<text text-anchor=\"middle\" x=\"332\" y=\"-171.8\" font-family=\"Times New Roman,serif\" font-size=\"14.00\">hsc_p &lt;= 60.665</text>\r\n",
       "<text text-anchor=\"middle\" x=\"332\" y=\"-156.8\" font-family=\"Times New Roman,serif\" font-size=\"14.00\">entropy = 0.988</text>\r\n",
       "<text text-anchor=\"middle\" x=\"332\" y=\"-141.8\" font-family=\"Times New Roman,serif\" font-size=\"14.00\">samples = 23</text>\r\n",
       "<text text-anchor=\"middle\" x=\"332\" y=\"-126.8\" font-family=\"Times New Roman,serif\" font-size=\"14.00\">value = [13, 10]</text>\r\n",
       "<text text-anchor=\"middle\" x=\"332\" y=\"-111.8\" font-family=\"Times New Roman,serif\" font-size=\"14.00\">class = Not Placed</text>\r\n",
       "</g>\r\n",
       "<!-- 7&#45;&gt;8 -->\r\n",
       "<g id=\"edge8\" class=\"edge\"><title>7&#45;&gt;8</title>\r\n",
       "<path fill=\"none\" stroke=\"black\" d=\"M381.632,-222.907C375.914,-214.105 369.807,-204.703 363.902,-195.612\"/>\r\n",
       "<polygon fill=\"black\" stroke=\"black\" points=\"366.704,-193.5 358.321,-187.021 360.833,-197.313 366.704,-193.5\"/>\r\n",
       "</g>\r\n",
       "<!-- 11 -->\r\n",
       "<g id=\"node12\" class=\"node\"><title>11</title>\r\n",
       "<polygon fill=\"#56abe9\" stroke=\"black\" points=\"528.5,-187 411.5,-187 411.5,-104 528.5,-104 528.5,-187\"/>\r\n",
       "<text text-anchor=\"middle\" x=\"470\" y=\"-171.8\" font-family=\"Times New Roman,serif\" font-size=\"14.00\">mba_p &lt;= 60.425</text>\r\n",
       "<text text-anchor=\"middle\" x=\"470\" y=\"-156.8\" font-family=\"Times New Roman,serif\" font-size=\"14.00\">entropy = 0.55</text>\r\n",
       "<text text-anchor=\"middle\" x=\"470\" y=\"-141.8\" font-family=\"Times New Roman,serif\" font-size=\"14.00\">samples = 55</text>\r\n",
       "<text text-anchor=\"middle\" x=\"470\" y=\"-126.8\" font-family=\"Times New Roman,serif\" font-size=\"14.00\">value = [7, 48]</text>\r\n",
       "<text text-anchor=\"middle\" x=\"470\" y=\"-111.8\" font-family=\"Times New Roman,serif\" font-size=\"14.00\">class = Placed</text>\r\n",
       "</g>\r\n",
       "<!-- 7&#45;&gt;11 -->\r\n",
       "<g id=\"edge11\" class=\"edge\"><title>7&#45;&gt;11</title>\r\n",
       "<path fill=\"none\" stroke=\"black\" d=\"M429.511,-222.907C434.127,-214.195 439.055,-204.897 443.826,-195.893\"/>\r\n",
       "<polygon fill=\"black\" stroke=\"black\" points=\"446.938,-197.496 448.527,-187.021 440.752,-194.218 446.938,-197.496\"/>\r\n",
       "</g>\r\n",
       "<!-- 9 -->\r\n",
       "<g id=\"node10\" class=\"node\"><title>9</title>\r\n",
       "<polygon fill=\"#e58139\" stroke=\"black\" points=\"265,-68 143,-68 143,-0 265,-0 265,-68\"/>\r\n",
       "<text text-anchor=\"middle\" x=\"204\" y=\"-52.8\" font-family=\"Times New Roman,serif\" font-size=\"14.00\">entropy = 0.0</text>\r\n",
       "<text text-anchor=\"middle\" x=\"204\" y=\"-37.8\" font-family=\"Times New Roman,serif\" font-size=\"14.00\">samples = 6</text>\r\n",
       "<text text-anchor=\"middle\" x=\"204\" y=\"-22.8\" font-family=\"Times New Roman,serif\" font-size=\"14.00\">value = [6, 0]</text>\r\n",
       "<text text-anchor=\"middle\" x=\"204\" y=\"-7.8\" font-family=\"Times New Roman,serif\" font-size=\"14.00\">class = Not Placed</text>\r\n",
       "</g>\r\n",
       "<!-- 8&#45;&gt;9 -->\r\n",
       "<g id=\"edge9\" class=\"edge\"><title>8&#45;&gt;9</title>\r\n",
       "<path fill=\"none\" stroke=\"black\" d=\"M284.338,-103.726C273.356,-94.3318 261.686,-84.349 250.744,-74.9883\"/>\r\n",
       "<polygon fill=\"black\" stroke=\"black\" points=\"252.8,-72.1406 242.926,-68.2996 248.249,-77.4598 252.8,-72.1406\"/>\r\n",
       "</g>\r\n",
       "<!-- 10 -->\r\n",
       "<g id=\"node11\" class=\"node\"><title>10</title>\r\n",
       "<polygon fill=\"#c4e2f7\" stroke=\"black\" points=\"389,-68 283,-68 283,-0 389,-0 389,-68\"/>\r\n",
       "<text text-anchor=\"middle\" x=\"336\" y=\"-52.8\" font-family=\"Times New Roman,serif\" font-size=\"14.00\">entropy = 0.977</text>\r\n",
       "<text text-anchor=\"middle\" x=\"336\" y=\"-37.8\" font-family=\"Times New Roman,serif\" font-size=\"14.00\">samples = 17</text>\r\n",
       "<text text-anchor=\"middle\" x=\"336\" y=\"-22.8\" font-family=\"Times New Roman,serif\" font-size=\"14.00\">value = [7, 10]</text>\r\n",
       "<text text-anchor=\"middle\" x=\"336\" y=\"-7.8\" font-family=\"Times New Roman,serif\" font-size=\"14.00\">class = Placed</text>\r\n",
       "</g>\r\n",
       "<!-- 8&#45;&gt;10 -->\r\n",
       "<g id=\"edge10\" class=\"edge\"><title>8&#45;&gt;10</title>\r\n",
       "<path fill=\"none\" stroke=\"black\" d=\"M333.489,-103.726C333.789,-95.5175 334.106,-86.8595 334.409,-78.56\"/>\r\n",
       "<polygon fill=\"black\" stroke=\"black\" points=\"337.916,-78.4207 334.784,-68.2996 330.921,-78.1651 337.916,-78.4207\"/>\r\n",
       "</g>\r\n",
       "<!-- 12 -->\r\n",
       "<g id=\"node13\" class=\"node\"><title>12</title>\r\n",
       "<polygon fill=\"#399de5\" stroke=\"black\" points=\"514,-68 416,-68 416,-0 514,-0 514,-68\"/>\r\n",
       "<text text-anchor=\"middle\" x=\"465\" y=\"-52.8\" font-family=\"Times New Roman,serif\" font-size=\"14.00\">entropy = 0.0</text>\r\n",
       "<text text-anchor=\"middle\" x=\"465\" y=\"-37.8\" font-family=\"Times New Roman,serif\" font-size=\"14.00\">samples = 23</text>\r\n",
       "<text text-anchor=\"middle\" x=\"465\" y=\"-22.8\" font-family=\"Times New Roman,serif\" font-size=\"14.00\">value = [0, 23]</text>\r\n",
       "<text text-anchor=\"middle\" x=\"465\" y=\"-7.8\" font-family=\"Times New Roman,serif\" font-size=\"14.00\">class = Placed</text>\r\n",
       "</g>\r\n",
       "<!-- 11&#45;&gt;12 -->\r\n",
       "<g id=\"edge12\" class=\"edge\"><title>11&#45;&gt;12</title>\r\n",
       "<path fill=\"none\" stroke=\"black\" d=\"M468.138,-103.726C467.763,-95.5175 467.368,-86.8595 466.989,-78.56\"/>\r\n",
       "<polygon fill=\"black\" stroke=\"black\" points=\"470.473,-78.1295 466.521,-68.2996 463.48,-78.4489 470.473,-78.1295\"/>\r\n",
       "</g>\r\n",
       "<!-- 13 -->\r\n",
       "<g id=\"node14\" class=\"node\"><title>13</title>\r\n",
       "<polygon fill=\"#70b8ec\" stroke=\"black\" points=\"638,-68 532,-68 532,-0 638,-0 638,-68\"/>\r\n",
       "<text text-anchor=\"middle\" x=\"585\" y=\"-52.8\" font-family=\"Times New Roman,serif\" font-size=\"14.00\">entropy = 0.758</text>\r\n",
       "<text text-anchor=\"middle\" x=\"585\" y=\"-37.8\" font-family=\"Times New Roman,serif\" font-size=\"14.00\">samples = 32</text>\r\n",
       "<text text-anchor=\"middle\" x=\"585\" y=\"-22.8\" font-family=\"Times New Roman,serif\" font-size=\"14.00\">value = [7, 25]</text>\r\n",
       "<text text-anchor=\"middle\" x=\"585\" y=\"-7.8\" font-family=\"Times New Roman,serif\" font-size=\"14.00\">class = Placed</text>\r\n",
       "</g>\r\n",
       "<!-- 11&#45;&gt;13 -->\r\n",
       "<g id=\"edge13\" class=\"edge\"><title>11&#45;&gt;13</title>\r\n",
       "<path fill=\"none\" stroke=\"black\" d=\"M512.822,-103.726C522.592,-94.423 532.969,-84.5428 542.717,-75.2612\"/>\r\n",
       "<polygon fill=\"black\" stroke=\"black\" points=\"545.199,-77.7301 550.028,-68.2996 540.372,-72.6606 545.199,-77.7301\"/>\r\n",
       "</g>\r\n",
       "</g>\r\n",
       "</svg>\r\n"
      ],
      "text/plain": [
       "<graphviz.files.Source at 0x19991c79250>"
      ]
     },
     "execution_count": 50,
     "metadata": {},
     "output_type": "execute_result"
    }
   ],
   "source": [
    "treegr = tree.export_graphviz(model_cv, out_file=None, \n",
    "                                 feature_names=X_full.columns,\n",
    "                                 class_names=['Not Placed', 'Placed'],\n",
    "                                 filled=True)\n",
    "\n",
    "# Draw graph\n",
    "graph =  graphviz.Source(treegr, format=\"png\") \n",
    "graph"
   ]
  },
  {
   "cell_type": "code",
   "execution_count": 51,
   "metadata": {},
   "outputs": [
    {
     "name": "stdout",
     "output_type": "stream",
     "text": [
      "              precision    recall  f1-score   support\n",
      "\n",
      "           0       0.75      0.38      0.50        24\n",
      "           1       0.72      0.93      0.81        41\n",
      "\n",
      "    accuracy                           0.72        65\n",
      "   macro avg       0.73      0.65      0.65        65\n",
      "weighted avg       0.73      0.72      0.69        65\n",
      "\n"
     ]
    }
   ],
   "source": [
    "y_pred_cv = model_cv.predict(X_test)\n",
    "print(classification_report(y_test, y_pred_cv))"
   ]
  },
  {
   "cell_type": "code",
   "execution_count": 52,
   "metadata": {},
   "outputs": [
    {
     "data": {
      "image/png": "[encoded data removed]",
      "text/plain": [
       "<Figure size 432x288 with 2 Axes>"
      ]
     },
     "metadata": {
      "needs_background": "light"
     },
     "output_type": "display_data"
    }
   ],
   "source": [
    "cm=confusion_matrix(y_test, y_pred_cv)\n",
    "cm_display = ConfusionMatrixDisplay(cm, display_labels=[0, 1])\n",
    "cm_display.plot(cmap='Oranges');\n",
    "plt.grid(None);"
   ]
  },
  {
   "cell_type": "markdown",
   "metadata": {},
   "source": [
    "Mejoró el Recall para la clase Not Placed (Negativa) y se niveló un poco más la precisión en ambos grupos. Mejoró el modelo, pero de todas formas considero que faltan más datos para realmente establecer un quórum de la predicción del modelo. "
   ]
  },
  {
   "cell_type": "markdown",
   "metadata": {},
   "source": [
    "El PERO que tiene esta opción es que en un caso real, no siempre podemos probar distintos valores de parámetros como hicimos recién, el costo puede ser muy grande en una base de datos de millones de registros y además, necesitamos acotar la grilla de parámetros, lo cuál significa que pudiéramos no necesariamente llegar al mejor valor del parámetro."
   ]
  },
  {
   "cell_type": "markdown",
   "metadata": {},
   "source": [
    "##### Bosque de Árboles"
   ]
  },
  {
   "cell_type": "code",
   "execution_count": 53,
   "metadata": {},
   "outputs": [],
   "source": [
    "from sklearn.ensemble import RandomForestClassifier\n",
    "\n",
    "bosque = RandomForestClassifier(n_estimators=100, random_state=2020, criterion='entropy').fit(X_train, y_train)\n",
    "\n",
    "y_pred_bosque=bosque.predict(X_test)"
   ]
  },
  {
   "cell_type": "code",
   "execution_count": 54,
   "metadata": {},
   "outputs": [
    {
     "name": "stdout",
     "output_type": "stream",
     "text": [
      "              precision    recall  f1-score   support\n",
      "\n",
      "           0       0.88      0.58      0.70        24\n",
      "           1       0.80      0.95      0.87        41\n",
      "\n",
      "    accuracy                           0.82        65\n",
      "   macro avg       0.84      0.77      0.78        65\n",
      "weighted avg       0.83      0.82      0.81        65\n",
      "\n"
     ]
    }
   ],
   "source": [
    "print(classification_report(y_test, y_pred_bosque))"
   ]
  },
  {
   "cell_type": "code",
   "execution_count": 55,
   "metadata": {},
   "outputs": [
    {
     "data": {
      "image/png": "[encoded data removed]",
      "text/plain": [
       "<Figure size 432x288 with 2 Axes>"
      ]
     },
     "metadata": {
      "needs_background": "light"
     },
     "output_type": "display_data"
    }
   ],
   "source": [
    "cm=confusion_matrix(y_test, y_pred_bosque)\n",
    "cm_display = ConfusionMatrixDisplay(cm, display_labels=[0, 1])\n",
    "cm_display.plot(cmap='Greens');\n",
    "plt.grid(None);"
   ]
  },
  {
   "cell_type": "markdown",
   "metadata": {},
   "source": [
    "Mejoran bastante las métricas! De 65 observaciones, existen 12 observaciones erróneamente clasificadas, siendo 2 verdaderas Placed y 10 falsas Not Placed. El PERO de esta variante es que al ser 100 árboles, no tenemos un modelo solo para interpretar y seguir los caminos (como si fuera un solo árbol de decisión), lo cual puede caer en el concepto de 'caja negra'. Sin embargo, mejora el poder predictivo, todo va a depender de lo que necesitemos! (También de los recursos disponibles)."
   ]
  },
  {
   "cell_type": "markdown",
   "metadata": {},
   "source": [
    "Otro PRO de un bosque de árboles es que podemos medir la importancia de los features a la hora de predecir cuándo un egresado del MBA tendrá una oferta de trabajo:"
   ]
  },
  {
   "cell_type": "code",
   "execution_count": 56,
   "metadata": {},
   "outputs": [
    {
     "data": {
      "text/plain": [
       "ssc_p               0.272797\n",
       "degree_p            0.230373\n",
       "hsc_p               0.158809\n",
       "mba_p               0.106794\n",
       "etest_p             0.072006\n",
       "exp_Yes             0.053070\n",
       "gender_M            0.033577\n",
       "spec_Mkt&HR         0.017706\n",
       "junta110_Others     0.016700\n",
       "areagr_Sci&Tech     0.015908\n",
       "junta1112_Others    0.015478\n",
       "areagr_Others       0.006784\n",
       "dtype: float64"
      ]
     },
     "execution_count": 56,
     "metadata": {},
     "output_type": "execute_result"
    }
   ],
   "source": [
    "feature_imp = pd.Series(bosque.feature_importances_,index=X_full.columns).sort_values(ascending=False)\n",
    "feature_imp"
   ]
  },
  {
   "cell_type": "code",
   "execution_count": 57,
   "metadata": {},
   "outputs": [
    {
     "data": {
      "image/png": "[encoded data removed]",
      "text/plain": [
       "<Figure size 864x576 with 1 Axes>"
      ]
     },
     "metadata": {
      "needs_background": "light"
     },
     "output_type": "display_data"
    }
   ],
   "source": [
    "import seaborn as sns\n",
    "\n",
    "fig, ax = plt.subplots(figsize=(12, 8))\n",
    "\n",
    "sns.barplot(x=feature_imp, y=feature_imp.index)\n",
    "plt.xlabel('Feature Importance Score')\n",
    "plt.ylabel('Features')\n",
    "plt.title(\"Visualizing Important Features\")\n",
    "plt.show()"
   ]
  },
  {
   "cell_type": "markdown",
   "metadata": {},
   "source": [
    "### Gracias!! Y mucho ánimo en el semestre :D"
   ]
  }
 ],
 "metadata": {
  "kernelspec": {
   "display_name": "Python 3",
   "language": "python",
   "name": "python3"
  },
  "language_info": {
   "codemirror_mode": {
    "name": "ipython",
    "version": 3
   },
   "file_extension": ".py",
   "mimetype": "text/x-python",
   "name": "python",
   "nbconvert_exporter": "python",
   "pygments_lexer": "ipython3",
   "version": "3.8.5"
  }
 },
 "nbformat": 4,
 "nbformat_minor": 4
}
