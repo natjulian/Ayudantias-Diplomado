{
 "cells": [
  {
   "cell_type": "markdown",
   "metadata": {},
   "source": [
    "# Ayudantía Métricas de Desempeño - Python"
   ]
  },
  {
   "cell_type": "markdown",
   "metadata": {},
   "source": [
    "## Natalie Julian"
   ]
  },
  {
   "cell_type": "markdown",
   "metadata": {},
   "source": [
    "La base de datos corazón contiene datos de un estudio realizado a residentes de la ciudad de Framingham en Massachusetts. El objetivo de la clasificación es predecir si el paciente tiene un riesgo padecer una enfermedad coronaria futura.\n",
    "\n",
    "Los atributos registrados en cada residente se describen a continuación:\n",
    "\n",
    "- male: indica si el sexo es masculino o no\n",
    "- age: edad del paciente (en años)\n",
    "- currentSmoker: si el paciente fuma o no\n",
    "- cigsPerDay: la cantidad de cigarrillos que la persona fumó en promedio en un día\n",
    "- BPMeds: si el paciente estaba o no tomando medicación para la presión arterial\n",
    "- prevalentStroke: si el paciente había tenido previamente un accidente cerebrovascular o no \n",
    "- prevalentHyp: si el paciente era hipertenso o no\n",
    "- diabetes: si el paciente tenía diabetes o no\n",
    "- totChol: nivel de colesterol total \n",
    "- sysBP: presión arterial sistólica\n",
    "- diaBP: presión arterial diastólica\n",
    "- BMI: índice de masa corporal\n",
    "- heartRate: frecuencia cardíaca\n",
    "- glucose: nivel de glucosa\n",
    "- TenYearCHD: Padeció de enfermedad coronaria dentro de los próximos 10 años del estudio (0 No, 1 sí)"
   ]
  },
  {
   "cell_type": "markdown",
   "metadata": {},
   "source": [
    "### a) Cargue la base de datos. Determine qué variables son numéricas (continuas o discretas) y cuáles son categóricas. ¿Hay alguna variable que necesite tratamiento? Realice el cambio que estime pertinente. ¿De qué naturaleza es la variable respuesta? ¿Nos encontramos en un problema de clasificación o de regresión? Discuta.\n"
   ]
  },
  {
   "cell_type": "code",
   "execution_count": 519,
   "metadata": {},
   "outputs": [
    {
     "data": {
      "text/html": [
       "<div>\n",
       "<style scoped>\n",
       "    .dataframe tbody tr th:only-of-type {\n",
       "        vertical-align: middle;\n",
       "    }\n",
       "\n",
       "    .dataframe tbody tr th {\n",
       "        vertical-align: top;\n",
       "    }\n",
       "\n",
       "    .dataframe thead th {\n",
       "        text-align: right;\n",
       "    }\n",
       "</style>\n",
       "<table border=\"1\" class=\"dataframe\">\n",
       "  <thead>\n",
       "    <tr style=\"text-align: right;\">\n",
       "      <th></th>\n",
       "      <th>male</th>\n",
       "      <th>age</th>\n",
       "      <th>currentSmoker</th>\n",
       "      <th>cigsPerDay</th>\n",
       "      <th>BPMeds</th>\n",
       "      <th>prevalentStroke</th>\n",
       "      <th>prevalentHyp</th>\n",
       "      <th>diabetes</th>\n",
       "      <th>totChol</th>\n",
       "      <th>sysBP</th>\n",
       "      <th>diaBP</th>\n",
       "      <th>BMI</th>\n",
       "      <th>heartRate</th>\n",
       "      <th>glucose</th>\n",
       "      <th>TenYearCHD</th>\n",
       "    </tr>\n",
       "  </thead>\n",
       "  <tbody>\n",
       "    <tr>\n",
       "      <th>0</th>\n",
       "      <td>1</td>\n",
       "      <td>39</td>\n",
       "      <td>0</td>\n",
       "      <td>0.0</td>\n",
       "      <td>0.0</td>\n",
       "      <td>0</td>\n",
       "      <td>0</td>\n",
       "      <td>0</td>\n",
       "      <td>195.0</td>\n",
       "      <td>106.0</td>\n",
       "      <td>70.0</td>\n",
       "      <td>26.97</td>\n",
       "      <td>80.0</td>\n",
       "      <td>77.0</td>\n",
       "      <td>0</td>\n",
       "    </tr>\n",
       "    <tr>\n",
       "      <th>1</th>\n",
       "      <td>0</td>\n",
       "      <td>46</td>\n",
       "      <td>0</td>\n",
       "      <td>0.0</td>\n",
       "      <td>0.0</td>\n",
       "      <td>0</td>\n",
       "      <td>0</td>\n",
       "      <td>0</td>\n",
       "      <td>250.0</td>\n",
       "      <td>121.0</td>\n",
       "      <td>81.0</td>\n",
       "      <td>28.73</td>\n",
       "      <td>95.0</td>\n",
       "      <td>76.0</td>\n",
       "      <td>0</td>\n",
       "    </tr>\n",
       "    <tr>\n",
       "      <th>2</th>\n",
       "      <td>1</td>\n",
       "      <td>48</td>\n",
       "      <td>1</td>\n",
       "      <td>20.0</td>\n",
       "      <td>0.0</td>\n",
       "      <td>0</td>\n",
       "      <td>0</td>\n",
       "      <td>0</td>\n",
       "      <td>245.0</td>\n",
       "      <td>127.5</td>\n",
       "      <td>80.0</td>\n",
       "      <td>25.34</td>\n",
       "      <td>75.0</td>\n",
       "      <td>70.0</td>\n",
       "      <td>0</td>\n",
       "    </tr>\n",
       "    <tr>\n",
       "      <th>3</th>\n",
       "      <td>0</td>\n",
       "      <td>61</td>\n",
       "      <td>1</td>\n",
       "      <td>30.0</td>\n",
       "      <td>0.0</td>\n",
       "      <td>0</td>\n",
       "      <td>1</td>\n",
       "      <td>0</td>\n",
       "      <td>225.0</td>\n",
       "      <td>150.0</td>\n",
       "      <td>95.0</td>\n",
       "      <td>28.58</td>\n",
       "      <td>65.0</td>\n",
       "      <td>103.0</td>\n",
       "      <td>1</td>\n",
       "    </tr>\n",
       "    <tr>\n",
       "      <th>4</th>\n",
       "      <td>0</td>\n",
       "      <td>46</td>\n",
       "      <td>1</td>\n",
       "      <td>23.0</td>\n",
       "      <td>0.0</td>\n",
       "      <td>0</td>\n",
       "      <td>0</td>\n",
       "      <td>0</td>\n",
       "      <td>285.0</td>\n",
       "      <td>130.0</td>\n",
       "      <td>84.0</td>\n",
       "      <td>23.10</td>\n",
       "      <td>85.0</td>\n",
       "      <td>85.0</td>\n",
       "      <td>0</td>\n",
       "    </tr>\n",
       "    <tr>\n",
       "      <th>...</th>\n",
       "      <td>...</td>\n",
       "      <td>...</td>\n",
       "      <td>...</td>\n",
       "      <td>...</td>\n",
       "      <td>...</td>\n",
       "      <td>...</td>\n",
       "      <td>...</td>\n",
       "      <td>...</td>\n",
       "      <td>...</td>\n",
       "      <td>...</td>\n",
       "      <td>...</td>\n",
       "      <td>...</td>\n",
       "      <td>...</td>\n",
       "      <td>...</td>\n",
       "      <td>...</td>\n",
       "    </tr>\n",
       "    <tr>\n",
       "      <th>195</th>\n",
       "      <td>0</td>\n",
       "      <td>49</td>\n",
       "      <td>1</td>\n",
       "      <td>9.0</td>\n",
       "      <td>0.0</td>\n",
       "      <td>0</td>\n",
       "      <td>0</td>\n",
       "      <td>0</td>\n",
       "      <td>226.0</td>\n",
       "      <td>106.0</td>\n",
       "      <td>71.0</td>\n",
       "      <td>22.89</td>\n",
       "      <td>85.0</td>\n",
       "      <td>57.0</td>\n",
       "      <td>0</td>\n",
       "    </tr>\n",
       "    <tr>\n",
       "      <th>196</th>\n",
       "      <td>1</td>\n",
       "      <td>48</td>\n",
       "      <td>1</td>\n",
       "      <td>10.0</td>\n",
       "      <td>0.0</td>\n",
       "      <td>0</td>\n",
       "      <td>0</td>\n",
       "      <td>0</td>\n",
       "      <td>308.0</td>\n",
       "      <td>117.0</td>\n",
       "      <td>76.0</td>\n",
       "      <td>30.85</td>\n",
       "      <td>65.0</td>\n",
       "      <td>54.0</td>\n",
       "      <td>1</td>\n",
       "    </tr>\n",
       "    <tr>\n",
       "      <th>197</th>\n",
       "      <td>0</td>\n",
       "      <td>55</td>\n",
       "      <td>1</td>\n",
       "      <td>9.0</td>\n",
       "      <td>0.0</td>\n",
       "      <td>0</td>\n",
       "      <td>0</td>\n",
       "      <td>0</td>\n",
       "      <td>248.0</td>\n",
       "      <td>157.0</td>\n",
       "      <td>82.5</td>\n",
       "      <td>22.91</td>\n",
       "      <td>89.0</td>\n",
       "      <td>83.0</td>\n",
       "      <td>0</td>\n",
       "    </tr>\n",
       "    <tr>\n",
       "      <th>198</th>\n",
       "      <td>0</td>\n",
       "      <td>58</td>\n",
       "      <td>1</td>\n",
       "      <td>5.0</td>\n",
       "      <td>0.0</td>\n",
       "      <td>0</td>\n",
       "      <td>0</td>\n",
       "      <td>0</td>\n",
       "      <td>215.0</td>\n",
       "      <td>170.0</td>\n",
       "      <td>86.0</td>\n",
       "      <td>29.06</td>\n",
       "      <td>75.0</td>\n",
       "      <td>98.0</td>\n",
       "      <td>0</td>\n",
       "    </tr>\n",
       "    <tr>\n",
       "      <th>199</th>\n",
       "      <td>1</td>\n",
       "      <td>60</td>\n",
       "      <td>0</td>\n",
       "      <td>0.0</td>\n",
       "      <td>0.0</td>\n",
       "      <td>0</td>\n",
       "      <td>0</td>\n",
       "      <td>0</td>\n",
       "      <td>240.0</td>\n",
       "      <td>137.0</td>\n",
       "      <td>84.0</td>\n",
       "      <td>29.51</td>\n",
       "      <td>82.0</td>\n",
       "      <td>88.0</td>\n",
       "      <td>0</td>\n",
       "    </tr>\n",
       "  </tbody>\n",
       "</table>\n",
       "<p>200 rows × 15 columns</p>\n",
       "</div>"
      ],
      "text/plain": [
       "     male  age  currentSmoker  cigsPerDay  BPMeds  prevalentStroke  \\\n",
       "0       1   39              0         0.0     0.0                0   \n",
       "1       0   46              0         0.0     0.0                0   \n",
       "2       1   48              1        20.0     0.0                0   \n",
       "3       0   61              1        30.0     0.0                0   \n",
       "4       0   46              1        23.0     0.0                0   \n",
       "..    ...  ...            ...         ...     ...              ...   \n",
       "195     0   49              1         9.0     0.0                0   \n",
       "196     1   48              1        10.0     0.0                0   \n",
       "197     0   55              1         9.0     0.0                0   \n",
       "198     0   58              1         5.0     0.0                0   \n",
       "199     1   60              0         0.0     0.0                0   \n",
       "\n",
       "     prevalentHyp  diabetes  totChol  sysBP  diaBP    BMI  heartRate  glucose  \\\n",
       "0               0         0    195.0  106.0   70.0  26.97       80.0     77.0   \n",
       "1               0         0    250.0  121.0   81.0  28.73       95.0     76.0   \n",
       "2               0         0    245.0  127.5   80.0  25.34       75.0     70.0   \n",
       "3               1         0    225.0  150.0   95.0  28.58       65.0    103.0   \n",
       "4               0         0    285.0  130.0   84.0  23.10       85.0     85.0   \n",
       "..            ...       ...      ...    ...    ...    ...        ...      ...   \n",
       "195             0         0    226.0  106.0   71.0  22.89       85.0     57.0   \n",
       "196             0         0    308.0  117.0   76.0  30.85       65.0     54.0   \n",
       "197             0         0    248.0  157.0   82.5  22.91       89.0     83.0   \n",
       "198             0         0    215.0  170.0   86.0  29.06       75.0     98.0   \n",
       "199             0         0    240.0  137.0   84.0  29.51       82.0     88.0   \n",
       "\n",
       "     TenYearCHD  \n",
       "0             0  \n",
       "1             0  \n",
       "2             0  \n",
       "3             1  \n",
       "4             0  \n",
       "..          ...  \n",
       "195           0  \n",
       "196           1  \n",
       "197           0  \n",
       "198           0  \n",
       "199           0  \n",
       "\n",
       "[200 rows x 15 columns]"
      ]
     },
     "execution_count": 519,
     "metadata": {},
     "output_type": "execute_result"
    }
   ],
   "source": [
    "import pandas as pd\n",
    "\n",
    "df = pd.read_csv('corazon.csv', delimiter=\";\")\n",
    "\n",
    "df.head(200)"
   ]
  },
  {
   "cell_type": "code",
   "execution_count": 520,
   "metadata": {},
   "outputs": [
    {
     "data": {
      "text/html": [
       "<div>\n",
       "<style scoped>\n",
       "    .dataframe tbody tr th:only-of-type {\n",
       "        vertical-align: middle;\n",
       "    }\n",
       "\n",
       "    .dataframe tbody tr th {\n",
       "        vertical-align: top;\n",
       "    }\n",
       "\n",
       "    .dataframe thead th {\n",
       "        text-align: right;\n",
       "    }\n",
       "</style>\n",
       "<table border=\"1\" class=\"dataframe\">\n",
       "  <thead>\n",
       "    <tr style=\"text-align: right;\">\n",
       "      <th></th>\n",
       "      <th>male</th>\n",
       "      <th>age</th>\n",
       "      <th>currentSmoker</th>\n",
       "      <th>cigsPerDay</th>\n",
       "      <th>BPMeds</th>\n",
       "      <th>prevalentStroke</th>\n",
       "      <th>prevalentHyp</th>\n",
       "      <th>diabetes</th>\n",
       "      <th>totChol</th>\n",
       "      <th>sysBP</th>\n",
       "      <th>diaBP</th>\n",
       "      <th>BMI</th>\n",
       "      <th>heartRate</th>\n",
       "      <th>glucose</th>\n",
       "      <th>TenYearCHD</th>\n",
       "    </tr>\n",
       "  </thead>\n",
       "  <tbody>\n",
       "    <tr>\n",
       "      <th>4233</th>\n",
       "      <td>1</td>\n",
       "      <td>50</td>\n",
       "      <td>1</td>\n",
       "      <td>1.0</td>\n",
       "      <td>0.0</td>\n",
       "      <td>0</td>\n",
       "      <td>1</td>\n",
       "      <td>0</td>\n",
       "      <td>313.0</td>\n",
       "      <td>179.0</td>\n",
       "      <td>92.0</td>\n",
       "      <td>25.97</td>\n",
       "      <td>66.0</td>\n",
       "      <td>86.0</td>\n",
       "      <td>1</td>\n",
       "    </tr>\n",
       "    <tr>\n",
       "      <th>4234</th>\n",
       "      <td>1</td>\n",
       "      <td>51</td>\n",
       "      <td>1</td>\n",
       "      <td>43.0</td>\n",
       "      <td>0.0</td>\n",
       "      <td>0</td>\n",
       "      <td>0</td>\n",
       "      <td>0</td>\n",
       "      <td>207.0</td>\n",
       "      <td>126.5</td>\n",
       "      <td>80.0</td>\n",
       "      <td>19.71</td>\n",
       "      <td>65.0</td>\n",
       "      <td>68.0</td>\n",
       "      <td>0</td>\n",
       "    </tr>\n",
       "    <tr>\n",
       "      <th>4235</th>\n",
       "      <td>0</td>\n",
       "      <td>48</td>\n",
       "      <td>1</td>\n",
       "      <td>20.0</td>\n",
       "      <td>NaN</td>\n",
       "      <td>0</td>\n",
       "      <td>0</td>\n",
       "      <td>0</td>\n",
       "      <td>248.0</td>\n",
       "      <td>131.0</td>\n",
       "      <td>72.0</td>\n",
       "      <td>22.00</td>\n",
       "      <td>84.0</td>\n",
       "      <td>86.0</td>\n",
       "      <td>0</td>\n",
       "    </tr>\n",
       "    <tr>\n",
       "      <th>4236</th>\n",
       "      <td>0</td>\n",
       "      <td>44</td>\n",
       "      <td>1</td>\n",
       "      <td>15.0</td>\n",
       "      <td>0.0</td>\n",
       "      <td>0</td>\n",
       "      <td>0</td>\n",
       "      <td>0</td>\n",
       "      <td>210.0</td>\n",
       "      <td>126.5</td>\n",
       "      <td>87.0</td>\n",
       "      <td>19.16</td>\n",
       "      <td>86.0</td>\n",
       "      <td>NaN</td>\n",
       "      <td>0</td>\n",
       "    </tr>\n",
       "    <tr>\n",
       "      <th>4237</th>\n",
       "      <td>0</td>\n",
       "      <td>52</td>\n",
       "      <td>0</td>\n",
       "      <td>0.0</td>\n",
       "      <td>0.0</td>\n",
       "      <td>0</td>\n",
       "      <td>0</td>\n",
       "      <td>0</td>\n",
       "      <td>269.0</td>\n",
       "      <td>133.5</td>\n",
       "      <td>83.0</td>\n",
       "      <td>21.47</td>\n",
       "      <td>80.0</td>\n",
       "      <td>107.0</td>\n",
       "      <td>0</td>\n",
       "    </tr>\n",
       "  </tbody>\n",
       "</table>\n",
       "</div>"
      ],
      "text/plain": [
       "      male  age  currentSmoker  cigsPerDay  BPMeds  prevalentStroke  \\\n",
       "4233     1   50              1         1.0     0.0                0   \n",
       "4234     1   51              1        43.0     0.0                0   \n",
       "4235     0   48              1        20.0     NaN                0   \n",
       "4236     0   44              1        15.0     0.0                0   \n",
       "4237     0   52              0         0.0     0.0                0   \n",
       "\n",
       "      prevalentHyp  diabetes  totChol  sysBP  diaBP    BMI  heartRate  \\\n",
       "4233             1         0    313.0  179.0   92.0  25.97       66.0   \n",
       "4234             0         0    207.0  126.5   80.0  19.71       65.0   \n",
       "4235             0         0    248.0  131.0   72.0  22.00       84.0   \n",
       "4236             0         0    210.0  126.5   87.0  19.16       86.0   \n",
       "4237             0         0    269.0  133.5   83.0  21.47       80.0   \n",
       "\n",
       "      glucose  TenYearCHD  \n",
       "4233     86.0           1  \n",
       "4234     68.0           0  \n",
       "4235     86.0           0  \n",
       "4236      NaN           0  \n",
       "4237    107.0           0  "
      ]
     },
     "execution_count": 520,
     "metadata": {},
     "output_type": "execute_result"
    }
   ],
   "source": [
    "df.tail()"
   ]
  },
  {
   "cell_type": "markdown",
   "metadata": {},
   "source": [
    "La naturaleza de las variables se describe a continuación:\n",
    "\n",
    "- male: indica si el sexo es masculino o no (categórica binaria)\n",
    "- age: edad del paciente (en años) (numérica, continua por definición aunque está discretizada en la base de datos)\n",
    "- currentSmoker: si el paciente fuma o no (categórica binaria)\n",
    "- cigsPerDay: la cantidad de cigarrillos que la persona fumó en promedio en un día (numérica discretas)\n",
    "- BPMeds: si el paciente estaba o no tomando medicación para la presión arterial (categórica binaria)\n",
    "- prevalentStroke: si el paciente había tenido previamente un accidente cerebrovascular o no (categórica binaria)\n",
    "- prevalentHyp: si el paciente era hipertenso o no (categórica binaria)\n",
    "- diabetes: si el paciente tenía diabetes o no (categórica binaria)\n",
    "- totChol: nivel de colesterol total (numérica, continua por definición aunque está discretizada en la base de datos)\n",
    "- sysBP: presión arterial sistólica (numérica continua)\n",
    "- diaBP: presión arterial diastólica (numérica continua)\n",
    "- BMI: índice de masa corporal (numérica continua)\n",
    "- heartRate: frecuencia cardíaca (numérica discreta)\n",
    "- glucose: nivel de glucosa (numérica, continua por definición aunque está discretizada en la base de datos)\n",
    "- TenYearCHD: Padeció de enfermedad coronaria dentro de los próximos 10 años del estudio (0 No, 1 sí) (categórica binaria)\n"
   ]
  },
  {
   "cell_type": "markdown",
   "metadata": {},
   "source": [
    "Notar que todas las variables categóricas son binarias y además, están codificadas como 1 y 0, por lo tanto no es necesario recodificarlas como dummies."
   ]
  },
  {
   "cell_type": "markdown",
   "metadata": {},
   "source": [
    "### b) Determine si existen o no datos faltantes, visualice la proporción de datos faltantes en la base de datos. ¿En qué variable hay mayor cantidad de datos faltantes? ¿Qué haría en este caso con los casos con datos faltantes? Discuta."
   ]
  },
  {
   "cell_type": "code",
   "execution_count": 554,
   "metadata": {},
   "outputs": [
    {
     "data": {
      "text/plain": [
       "(3749, 15)"
      ]
     },
     "execution_count": 554,
     "metadata": {},
     "output_type": "execute_result"
    }
   ],
   "source": [
    "df.shape #dimensiones de la bbdd"
   ]
  },
  {
   "cell_type": "code",
   "execution_count": 555,
   "metadata": {},
   "outputs": [
    {
     "name": "stdout",
     "output_type": "stream",
     "text": [
      "<class 'pandas.core.frame.DataFrame'>\n",
      "Int64Index: 3749 entries, 0 to 4237\n",
      "Data columns (total 15 columns):\n",
      " #   Column           Non-Null Count  Dtype  \n",
      "---  ------           --------------  -----  \n",
      " 0   male             3749 non-null   int64  \n",
      " 1   age              3749 non-null   int64  \n",
      " 2   currentSmoker    3749 non-null   int64  \n",
      " 3   cigsPerDay       3749 non-null   float64\n",
      " 4   BPMeds           3749 non-null   float64\n",
      " 5   prevalentStroke  3749 non-null   int64  \n",
      " 6   prevalentHyp     3749 non-null   int64  \n",
      " 7   diabetes         3749 non-null   int64  \n",
      " 8   totChol          3749 non-null   float64\n",
      " 9   sysBP            3749 non-null   float64\n",
      " 10  diaBP            3749 non-null   float64\n",
      " 11  BMI              3749 non-null   float64\n",
      " 12  heartRate        3749 non-null   float64\n",
      " 13  glucose          3749 non-null   float64\n",
      " 14  TenYearCHD       3749 non-null   int64  \n",
      "dtypes: float64(8), int64(7)\n",
      "memory usage: 468.6 KB\n"
     ]
    }
   ],
   "source": [
    "df.info() #claramente hay datos faltantes en algunas variables, cigsPerDay, BPMeds, totChol, sysBP, BMI, heartRate, glucose"
   ]
  },
  {
   "cell_type": "code",
   "execution_count": 523,
   "metadata": {},
   "outputs": [],
   "source": [
    "#para instalar missingno\n",
    "#conda install -c conda-forge/label/gcc7 missingno"
   ]
  },
  {
   "cell_type": "code",
   "execution_count": 524,
   "metadata": {},
   "outputs": [
    {
     "data": {
      "text/plain": [
       "<AxesSubplot:>"
      ]
     },
     "execution_count": 524,
     "metadata": {},
     "output_type": "execute_result"
    },
    {
     "data": {
      "image/png": "[encoded data removed]",
      "text/plain": [
       "<Figure size 1800x720 with 2 Axes>"
      ]
     },
     "metadata": {
      "needs_background": "light"
     },
     "output_type": "display_data"
    }
   ],
   "source": [
    "import missingno as msngo\n",
    "msngo.matrix(df)"
   ]
  },
  {
   "cell_type": "markdown",
   "metadata": {},
   "source": [
    "Vemos que en la variable glucose es donde predominan los datos faltantes. Una opción: Eliminar la columna glucosa y luego eliminar los registros con algún atributo faltante. Sin embargo, la información de glucosa la perderíamos. Otra opción: imputar los casos faltantes, pero esto no es tan trivial y se requiere conocimiento de técnicas de imputación. La opción que tomaremos: eliminar los registros con algún caso faltante."
   ]
  },
  {
   "cell_type": "code",
   "execution_count": 525,
   "metadata": {},
   "outputs": [],
   "source": [
    "df = df.dropna()"
   ]
  },
  {
   "cell_type": "code",
   "execution_count": 526,
   "metadata": {},
   "outputs": [
    {
     "data": {
      "text/plain": [
       "(3749, 15)"
      ]
     },
     "execution_count": 526,
     "metadata": {},
     "output_type": "execute_result"
    }
   ],
   "source": [
    "df.shape"
   ]
  },
  {
   "cell_type": "markdown",
   "metadata": {},
   "source": [
    "### c) Defina la matriz de variables predictoras X e Y vector de la variable respuesta de manera apropiada, además estandarice X. Obtenga un set de datos de entrenamiento y prueba en proporción 1:4. Utilice una semilla 2020 para este procedimiento. ¿Cómo se distribuyen los residentes con enfermedad de corazón en los distintos set? ¿Qué caso debería ser más fácil de predecir para el modelo en base a los datos? Comente."
   ]
  },
  {
   "cell_type": "code",
   "execution_count": 527,
   "metadata": {},
   "outputs": [],
   "source": [
    "X=df.drop('TenYearCHD', axis=1) "
   ]
  },
  {
   "cell_type": "code",
   "execution_count": 528,
   "metadata": {},
   "outputs": [
    {
     "data": {
      "text/plain": [
       "Index(['male', 'age', 'currentSmoker', 'cigsPerDay', 'BPMeds',\n",
       "       'prevalentStroke', 'prevalentHyp', 'diabetes', 'totChol', 'sysBP',\n",
       "       'diaBP', 'BMI', 'heartRate', 'glucose'],\n",
       "      dtype='object')"
      ]
     },
     "execution_count": 528,
     "metadata": {},
     "output_type": "execute_result"
    }
   ],
   "source": [
    "df.drop('TenYearCHD', axis=1) .columns"
   ]
  },
  {
   "cell_type": "code",
   "execution_count": 529,
   "metadata": {},
   "outputs": [
    {
     "name": "stdout",
     "output_type": "stream",
     "text": [
      "      cigsPerDay       age   totChol     sysBP     diaBP       BMI  heartRate  \\\n",
      "0      -0.755427 -1.234664 -0.940551 -1.195789 -1.083977  0.285424   0.359319   \n",
      "1      -0.755427 -0.417687  0.292509 -0.515486 -0.162065  0.718351   1.613902   \n",
      "2       0.922305 -0.184266  0.180413 -0.220689 -0.245875 -0.115525  -0.058875   \n",
      "3       1.761172  1.332976 -0.267973  0.799765  1.011277  0.681454  -0.895264   \n",
      "4       1.173965 -0.417687  1.077184 -0.107305  0.089365 -0.666523   0.777513   \n",
      "...          ...       ...       ...       ...       ...       ...        ...   \n",
      "3744   -0.755427  0.982843 -1.119905  0.391584 -0.162065 -0.208998   0.359319   \n",
      "3745   -0.755427  2.149953 -1.366518  1.616129  1.178897 -0.656684  -1.313458   \n",
      "3746   -0.671541  0.049156  1.704924  2.115017  0.759847  0.039443  -0.811625   \n",
      "3747    2.851698  0.165867 -0.671520 -0.266042 -0.245875 -1.500399  -0.895264   \n",
      "3748   -0.755427  0.282578  0.718475  0.051433  0.005555 -1.067472   0.359319   \n",
      "\n",
      "       glucose  \n",
      "0    -0.204446  \n",
      "1    -0.246314  \n",
      "2    -0.497519  \n",
      "3     0.884110  \n",
      "4     0.130494  \n",
      "...        ...  \n",
      "3744 -0.036976  \n",
      "3745 -0.120711  \n",
      "3746  0.172362  \n",
      "3747 -0.581254  \n",
      "3748  1.051580  \n",
      "\n",
      "[3749 rows x 8 columns]\n"
     ]
    }
   ],
   "source": [
    "from sklearn.preprocessing import StandardScaler #estandariza\n",
    "\n",
    "sc = StandardScaler()\n",
    "X_stand = sc.fit_transform(X[['cigsPerDay', 'age', 'totChol', 'sysBP', 'diaBP', 'BMI', 'heartRate', 'glucose']]) #cuando se estandariza se pierde toda la información de nombre de columnas y otros\n",
    "\n",
    "X_stand = pd.DataFrame(X_stand, columns = X[['cigsPerDay', 'age','totChol', 'sysBP', 'diaBP', 'BMI', 'heartRate', 'glucose']].columns)\n",
    "\n",
    "print(X_stand)"
   ]
  },
  {
   "cell_type": "code",
   "execution_count": 530,
   "metadata": {},
   "outputs": [
    {
     "name": "stdout",
     "output_type": "stream",
     "text": [
      "      male  currentSmoker  BPMeds  diabetes  prevalentStroke  prevalentHyp\n",
      "0        1              0     0.0         0                0             0\n",
      "1        0              0     0.0         0                0             0\n",
      "2        1              1     0.0         0                0             0\n",
      "3        0              1     0.0         0                0             1\n",
      "4        0              1     0.0         0                0             0\n",
      "...    ...            ...     ...       ...              ...           ...\n",
      "3744     1              0     0.0         0                0             1\n",
      "3745     1              0     0.0         0                0             1\n",
      "3746     1              1     0.0         0                0             1\n",
      "3747     1              1     0.0         0                0             0\n",
      "3748     0              0     0.0         0                0             0\n",
      "\n",
      "[3749 rows x 6 columns]\n"
     ]
    }
   ],
   "source": [
    "X_cat=X[['male', 'currentSmoker', 'BPMeds','diabetes', 'prevalentStroke', 'prevalentHyp']]\n",
    "\n",
    "X_cat.reset_index(drop=True, inplace=True)\n",
    "\n",
    "print(X_cat)"
   ]
  },
  {
   "cell_type": "code",
   "execution_count": 531,
   "metadata": {},
   "outputs": [
    {
     "name": "stdout",
     "output_type": "stream",
     "text": [
      "      male  currentSmoker  BPMeds  diabetes  prevalentStroke  prevalentHyp  \\\n",
      "0        1              0     0.0         0                0             0   \n",
      "1        0              0     0.0         0                0             0   \n",
      "2        1              1     0.0         0                0             0   \n",
      "3        0              1     0.0         0                0             1   \n",
      "4        0              1     0.0         0                0             0   \n",
      "...    ...            ...     ...       ...              ...           ...   \n",
      "3744     1              0     0.0         0                0             1   \n",
      "3745     1              0     0.0         0                0             1   \n",
      "3746     1              1     0.0         0                0             1   \n",
      "3747     1              1     0.0         0                0             0   \n",
      "3748     0              0     0.0         0                0             0   \n",
      "\n",
      "      cigsPerDay       age   totChol     sysBP     diaBP       BMI  heartRate  \\\n",
      "0      -0.755427 -1.234664 -0.940551 -1.195789 -1.083977  0.285424   0.359319   \n",
      "1      -0.755427 -0.417687  0.292509 -0.515486 -0.162065  0.718351   1.613902   \n",
      "2       0.922305 -0.184266  0.180413 -0.220689 -0.245875 -0.115525  -0.058875   \n",
      "3       1.761172  1.332976 -0.267973  0.799765  1.011277  0.681454  -0.895264   \n",
      "4       1.173965 -0.417687  1.077184 -0.107305  0.089365 -0.666523   0.777513   \n",
      "...          ...       ...       ...       ...       ...       ...        ...   \n",
      "3744   -0.755427  0.982843 -1.119905  0.391584 -0.162065 -0.208998   0.359319   \n",
      "3745   -0.755427  2.149953 -1.366518  1.616129  1.178897 -0.656684  -1.313458   \n",
      "3746   -0.671541  0.049156  1.704924  2.115017  0.759847  0.039443  -0.811625   \n",
      "3747    2.851698  0.165867 -0.671520 -0.266042 -0.245875 -1.500399  -0.895264   \n",
      "3748   -0.755427  0.282578  0.718475  0.051433  0.005555 -1.067472   0.359319   \n",
      "\n",
      "       glucose  \n",
      "0    -0.204446  \n",
      "1    -0.246314  \n",
      "2    -0.497519  \n",
      "3     0.884110  \n",
      "4     0.130494  \n",
      "...        ...  \n",
      "3744 -0.036976  \n",
      "3745 -0.120711  \n",
      "3746  0.172362  \n",
      "3747 -0.581254  \n",
      "3748  1.051580  \n",
      "\n",
      "[3749 rows x 14 columns]\n"
     ]
    }
   ],
   "source": [
    "X=pd.concat([X_cat,X_stand], axis=1)\n",
    "\n",
    "print(X)"
   ]
  },
  {
   "cell_type": "code",
   "execution_count": 532,
   "metadata": {},
   "outputs": [
    {
     "data": {
      "text/html": [
       "<div>\n",
       "<style scoped>\n",
       "    .dataframe tbody tr th:only-of-type {\n",
       "        vertical-align: middle;\n",
       "    }\n",
       "\n",
       "    .dataframe tbody tr th {\n",
       "        vertical-align: top;\n",
       "    }\n",
       "\n",
       "    .dataframe thead th {\n",
       "        text-align: right;\n",
       "    }\n",
       "</style>\n",
       "<table border=\"1\" class=\"dataframe\">\n",
       "  <thead>\n",
       "    <tr style=\"text-align: right;\">\n",
       "      <th></th>\n",
       "      <th>male</th>\n",
       "      <th>currentSmoker</th>\n",
       "      <th>BPMeds</th>\n",
       "      <th>diabetes</th>\n",
       "      <th>prevalentStroke</th>\n",
       "      <th>prevalentHyp</th>\n",
       "      <th>cigsPerDay</th>\n",
       "      <th>age</th>\n",
       "      <th>totChol</th>\n",
       "      <th>sysBP</th>\n",
       "      <th>diaBP</th>\n",
       "      <th>BMI</th>\n",
       "      <th>heartRate</th>\n",
       "      <th>glucose</th>\n",
       "    </tr>\n",
       "  </thead>\n",
       "  <tbody>\n",
       "    <tr>\n",
       "      <th>3744</th>\n",
       "      <td>1</td>\n",
       "      <td>0</td>\n",
       "      <td>0.0</td>\n",
       "      <td>0</td>\n",
       "      <td>0</td>\n",
       "      <td>1</td>\n",
       "      <td>-0.755427</td>\n",
       "      <td>0.982843</td>\n",
       "      <td>-1.119905</td>\n",
       "      <td>0.391584</td>\n",
       "      <td>-0.162065</td>\n",
       "      <td>-0.208998</td>\n",
       "      <td>0.359319</td>\n",
       "      <td>-0.036976</td>\n",
       "    </tr>\n",
       "    <tr>\n",
       "      <th>3745</th>\n",
       "      <td>1</td>\n",
       "      <td>0</td>\n",
       "      <td>0.0</td>\n",
       "      <td>0</td>\n",
       "      <td>0</td>\n",
       "      <td>1</td>\n",
       "      <td>-0.755427</td>\n",
       "      <td>2.149953</td>\n",
       "      <td>-1.366518</td>\n",
       "      <td>1.616129</td>\n",
       "      <td>1.178897</td>\n",
       "      <td>-0.656684</td>\n",
       "      <td>-1.313458</td>\n",
       "      <td>-0.120711</td>\n",
       "    </tr>\n",
       "    <tr>\n",
       "      <th>3746</th>\n",
       "      <td>1</td>\n",
       "      <td>1</td>\n",
       "      <td>0.0</td>\n",
       "      <td>0</td>\n",
       "      <td>0</td>\n",
       "      <td>1</td>\n",
       "      <td>-0.671541</td>\n",
       "      <td>0.049156</td>\n",
       "      <td>1.704924</td>\n",
       "      <td>2.115017</td>\n",
       "      <td>0.759847</td>\n",
       "      <td>0.039443</td>\n",
       "      <td>-0.811625</td>\n",
       "      <td>0.172362</td>\n",
       "    </tr>\n",
       "    <tr>\n",
       "      <th>3747</th>\n",
       "      <td>1</td>\n",
       "      <td>1</td>\n",
       "      <td>0.0</td>\n",
       "      <td>0</td>\n",
       "      <td>0</td>\n",
       "      <td>0</td>\n",
       "      <td>2.851698</td>\n",
       "      <td>0.165867</td>\n",
       "      <td>-0.671520</td>\n",
       "      <td>-0.266042</td>\n",
       "      <td>-0.245875</td>\n",
       "      <td>-1.500399</td>\n",
       "      <td>-0.895264</td>\n",
       "      <td>-0.581254</td>\n",
       "    </tr>\n",
       "    <tr>\n",
       "      <th>3748</th>\n",
       "      <td>0</td>\n",
       "      <td>0</td>\n",
       "      <td>0.0</td>\n",
       "      <td>0</td>\n",
       "      <td>0</td>\n",
       "      <td>0</td>\n",
       "      <td>-0.755427</td>\n",
       "      <td>0.282578</td>\n",
       "      <td>0.718475</td>\n",
       "      <td>0.051433</td>\n",
       "      <td>0.005555</td>\n",
       "      <td>-1.067472</td>\n",
       "      <td>0.359319</td>\n",
       "      <td>1.051580</td>\n",
       "    </tr>\n",
       "  </tbody>\n",
       "</table>\n",
       "</div>"
      ],
      "text/plain": [
       "      male  currentSmoker  BPMeds  diabetes  prevalentStroke  prevalentHyp  \\\n",
       "3744     1              0     0.0         0                0             1   \n",
       "3745     1              0     0.0         0                0             1   \n",
       "3746     1              1     0.0         0                0             1   \n",
       "3747     1              1     0.0         0                0             0   \n",
       "3748     0              0     0.0         0                0             0   \n",
       "\n",
       "      cigsPerDay       age   totChol     sysBP     diaBP       BMI  heartRate  \\\n",
       "3744   -0.755427  0.982843 -1.119905  0.391584 -0.162065 -0.208998   0.359319   \n",
       "3745   -0.755427  2.149953 -1.366518  1.616129  1.178897 -0.656684  -1.313458   \n",
       "3746   -0.671541  0.049156  1.704924  2.115017  0.759847  0.039443  -0.811625   \n",
       "3747    2.851698  0.165867 -0.671520 -0.266042 -0.245875 -1.500399  -0.895264   \n",
       "3748   -0.755427  0.282578  0.718475  0.051433  0.005555 -1.067472   0.359319   \n",
       "\n",
       "       glucose  \n",
       "3744 -0.036976  \n",
       "3745 -0.120711  \n",
       "3746  0.172362  \n",
       "3747 -0.581254  \n",
       "3748  1.051580  "
      ]
     },
     "execution_count": 532,
     "metadata": {},
     "output_type": "execute_result"
    }
   ],
   "source": [
    "X.tail()"
   ]
  },
  {
   "cell_type": "code",
   "execution_count": 533,
   "metadata": {},
   "outputs": [],
   "source": [
    "y=df['TenYearCHD']"
   ]
  },
  {
   "cell_type": "code",
   "execution_count": 534,
   "metadata": {},
   "outputs": [],
   "source": [
    "from sklearn.model_selection import train_test_split\n",
    "\n",
    "X_train, X_test, y_train, y_test = train_test_split(X, y, test_size=0.2, random_state=2020) #set de entrenamiento y prueba"
   ]
  },
  {
   "cell_type": "code",
   "execution_count": 535,
   "metadata": {},
   "outputs": [],
   "source": [
    "X_train.reset_index(drop=True, inplace=True) #Drop resetea el índice al n° de fila, inplace modifica el objeto\n",
    "X_test.reset_index(drop=True, inplace=True)\n",
    "y_train.reset_index(drop=True, inplace=True)\n",
    "y_test.reset_index(drop=True, inplace=True)"
   ]
  },
  {
   "cell_type": "code",
   "execution_count": 536,
   "metadata": {},
   "outputs": [
    {
     "name": "stdout",
     "output_type": "stream",
     "text": [
      "col_0       count\n",
      "TenYearCHD       \n",
      "0            2550\n",
      "1             449\n"
     ]
    }
   ],
   "source": [
    "print(pd.crosstab(index=y_train, columns=\"count\") )"
   ]
  },
  {
   "cell_type": "code",
   "execution_count": 537,
   "metadata": {},
   "outputs": [
    {
     "name": "stdout",
     "output_type": "stream",
     "text": [
      "col_0       count\n",
      "TenYearCHD       \n",
      "0             627\n",
      "1             123\n"
     ]
    }
   ],
   "source": [
    "print(pd.crosstab(index=y_test, columns=\"count\") )"
   ]
  },
  {
   "cell_type": "markdown",
   "metadata": {},
   "source": [
    "Hay más casos de residentes que no presentaron enfermedad al corazón que los que sí, por ende, al modelo le debería costar más predecir los casos donde sí hubo enfermedad (ya que tiene menos datos con los que entrenar, aunque también va a depender de las variables y de cómo logren separar los distintos casos)."
   ]
  },
  {
   "cell_type": "markdown",
   "metadata": {},
   "source": [
    "### d) Entrene un modelo de regresión logística, obtenga los parámetros asociados a cada variable, evalúe significancia de cada uno e interprételos. ¿Qué variables son factores de riesgo/factores protectores de padecer una enfermedad al corazón? Comente.\n"
   ]
  },
  {
   "cell_type": "markdown",
   "metadata": {},
   "source": [
    "Si queremos obtener resúmenes estadísticos como en R, con LogisticRegression de SKLearn, no es tan sencillo. Probaremos con el paquete statsmodels:"
   ]
  },
  {
   "cell_type": "code",
   "execution_count": 538,
   "metadata": {},
   "outputs": [],
   "source": [
    "import statsmodels.api as sm\n",
    "import statsmodels.formula.api as smf"
   ]
  },
  {
   "cell_type": "code",
   "execution_count": 539,
   "metadata": {},
   "outputs": [
    {
     "name": "stdout",
     "output_type": "stream",
     "text": [
      "TenYearCHD ~ male+age+currentSmoker+cigsPerDay+BPMeds+prevalentStroke+prevalentHyp+diabetes+totChol+sysBP+diaBP+BMI+heartRate+glucose\n"
     ]
    }
   ],
   "source": [
    "explicativas = \"+\".join(df.drop('TenYearCHD', axis=1).columns)  #necesitamos ingresarle la formula\n",
    "formula = 'TenYearCHD ~ '+explicativas \n",
    "\n",
    "print(formula)"
   ]
  },
  {
   "cell_type": "code",
   "execution_count": 540,
   "metadata": {},
   "outputs": [
    {
     "data": {
      "text/html": [
       "<div>\n",
       "<style scoped>\n",
       "    .dataframe tbody tr th:only-of-type {\n",
       "        vertical-align: middle;\n",
       "    }\n",
       "\n",
       "    .dataframe tbody tr th {\n",
       "        vertical-align: top;\n",
       "    }\n",
       "\n",
       "    .dataframe thead th {\n",
       "        text-align: right;\n",
       "    }\n",
       "</style>\n",
       "<table border=\"1\" class=\"dataframe\">\n",
       "  <thead>\n",
       "    <tr style=\"text-align: right;\">\n",
       "      <th></th>\n",
       "      <th>TenYearCHD</th>\n",
       "      <th>male</th>\n",
       "      <th>currentSmoker</th>\n",
       "      <th>BPMeds</th>\n",
       "      <th>diabetes</th>\n",
       "      <th>prevalentStroke</th>\n",
       "      <th>prevalentHyp</th>\n",
       "      <th>cigsPerDay</th>\n",
       "      <th>age</th>\n",
       "      <th>totChol</th>\n",
       "      <th>sysBP</th>\n",
       "      <th>diaBP</th>\n",
       "      <th>BMI</th>\n",
       "      <th>heartRate</th>\n",
       "      <th>glucose</th>\n",
       "    </tr>\n",
       "  </thead>\n",
       "  <tbody>\n",
       "    <tr>\n",
       "      <th>0</th>\n",
       "      <td>0</td>\n",
       "      <td>0</td>\n",
       "      <td>1</td>\n",
       "      <td>0.0</td>\n",
       "      <td>0</td>\n",
       "      <td>0</td>\n",
       "      <td>1</td>\n",
       "      <td>0.083439</td>\n",
       "      <td>0.049156</td>\n",
       "      <td>1.368635</td>\n",
       "      <td>1.071887</td>\n",
       "      <td>0.592226</td>\n",
       "      <td>-0.386104</td>\n",
       "      <td>-0.058875</td>\n",
       "      <td>0.758507</td>\n",
       "    </tr>\n",
       "    <tr>\n",
       "      <th>1</th>\n",
       "      <td>0</td>\n",
       "      <td>1</td>\n",
       "      <td>1</td>\n",
       "      <td>0.0</td>\n",
       "      <td>0</td>\n",
       "      <td>0</td>\n",
       "      <td>1</td>\n",
       "      <td>1.761172</td>\n",
       "      <td>-0.417687</td>\n",
       "      <td>-1.859742</td>\n",
       "      <td>0.391584</td>\n",
       "      <td>0.592226</td>\n",
       "      <td>-0.750157</td>\n",
       "      <td>-0.895264</td>\n",
       "      <td>-0.706857</td>\n",
       "    </tr>\n",
       "    <tr>\n",
       "      <th>2</th>\n",
       "      <td>0</td>\n",
       "      <td>0</td>\n",
       "      <td>0</td>\n",
       "      <td>0.0</td>\n",
       "      <td>0</td>\n",
       "      <td>0</td>\n",
       "      <td>0</td>\n",
       "      <td>-0.755427</td>\n",
       "      <td>0.982843</td>\n",
       "      <td>-0.066199</td>\n",
       "      <td>0.232847</td>\n",
       "      <td>0.550321</td>\n",
       "      <td>-0.383645</td>\n",
       "      <td>-1.480735</td>\n",
       "      <td>-0.413784</td>\n",
       "    </tr>\n",
       "    <tr>\n",
       "      <th>3</th>\n",
       "      <td>1</td>\n",
       "      <td>1</td>\n",
       "      <td>1</td>\n",
       "      <td>0.0</td>\n",
       "      <td>0</td>\n",
       "      <td>0</td>\n",
       "      <td>0</td>\n",
       "      <td>0.922305</td>\n",
       "      <td>0.982843</td>\n",
       "      <td>-0.828455</td>\n",
       "      <td>0.164816</td>\n",
       "      <td>0.424606</td>\n",
       "      <td>0.108318</td>\n",
       "      <td>-0.058875</td>\n",
       "      <td>-0.371916</td>\n",
       "    </tr>\n",
       "    <tr>\n",
       "      <th>4</th>\n",
       "      <td>1</td>\n",
       "      <td>0</td>\n",
       "      <td>0</td>\n",
       "      <td>0.0</td>\n",
       "      <td>0</td>\n",
       "      <td>0</td>\n",
       "      <td>1</td>\n",
       "      <td>-0.755427</td>\n",
       "      <td>-0.417687</td>\n",
       "      <td>0.001058</td>\n",
       "      <td>2.886027</td>\n",
       "      <td>3.106531</td>\n",
       "      <td>1.434156</td>\n",
       "      <td>-1.480735</td>\n",
       "      <td>-0.916194</td>\n",
       "    </tr>\n",
       "  </tbody>\n",
       "</table>\n",
       "</div>"
      ],
      "text/plain": [
       "   TenYearCHD  male  currentSmoker  BPMeds  diabetes  prevalentStroke  \\\n",
       "0           0     0              1     0.0         0                0   \n",
       "1           0     1              1     0.0         0                0   \n",
       "2           0     0              0     0.0         0                0   \n",
       "3           1     1              1     0.0         0                0   \n",
       "4           1     0              0     0.0         0                0   \n",
       "\n",
       "   prevalentHyp  cigsPerDay       age   totChol     sysBP     diaBP       BMI  \\\n",
       "0             1    0.083439  0.049156  1.368635  1.071887  0.592226 -0.386104   \n",
       "1             1    1.761172 -0.417687 -1.859742  0.391584  0.592226 -0.750157   \n",
       "2             0   -0.755427  0.982843 -0.066199  0.232847  0.550321 -0.383645   \n",
       "3             0    0.922305  0.982843 -0.828455  0.164816  0.424606  0.108318   \n",
       "4             1   -0.755427 -0.417687  0.001058  2.886027  3.106531  1.434156   \n",
       "\n",
       "   heartRate   glucose  \n",
       "0  -0.058875  0.758507  \n",
       "1  -0.895264 -0.706857  \n",
       "2  -1.480735 -0.413784  \n",
       "3  -0.058875 -0.371916  \n",
       "4  -1.480735 -0.916194  "
      ]
     },
     "execution_count": 540,
     "metadata": {},
     "output_type": "execute_result"
    }
   ],
   "source": [
    " #esta librería requiere solo una data, por lo que debemos unir y_train y X_train\n",
    "\n",
    "data_train=pd.concat([y_train,X_train], axis=1)\n",
    "data_train.head()\n"
   ]
  },
  {
   "cell_type": "code",
   "execution_count": 541,
   "metadata": {},
   "outputs": [],
   "source": [
    "lr_sns = smf.glm(formula, family=sm.families.Binomial(), data=data_train)"
   ]
  },
  {
   "cell_type": "code",
   "execution_count": 542,
   "metadata": {},
   "outputs": [
    {
     "data": {
      "text/html": [
       "<table class=\"simpletable\">\n",
       "<caption>Generalized Linear Model Regression Results</caption>\n",
       "<tr>\n",
       "  <th>Dep. Variable:</th>      <td>TenYearCHD</td>    <th>  No. Observations:  </th>  <td>  2999</td> \n",
       "</tr>\n",
       "<tr>\n",
       "  <th>Model:</th>                  <td>GLM</td>       <th>  Df Residuals:      </th>  <td>  2984</td> \n",
       "</tr>\n",
       "<tr>\n",
       "  <th>Model Family:</th>        <td>Binomial</td>     <th>  Df Model:          </th>  <td>    14</td> \n",
       "</tr>\n",
       "<tr>\n",
       "  <th>Link Function:</th>         <td>logit</td>      <th>  Scale:             </th> <td>  1.0000</td>\n",
       "</tr>\n",
       "<tr>\n",
       "  <th>Method:</th>                <td>IRLS</td>       <th>  Log-Likelihood:    </th> <td> -1116.4</td>\n",
       "</tr>\n",
       "<tr>\n",
       "  <th>Date:</th>            <td>Sat, 21 Aug 2021</td> <th>  Deviance:          </th> <td>  2232.9</td>\n",
       "</tr>\n",
       "<tr>\n",
       "  <th>Time:</th>                <td>10:17:10</td>     <th>  Pearson chi2:      </th> <td>3.00e+03</td>\n",
       "</tr>\n",
       "<tr>\n",
       "  <th>No. Iterations:</th>          <td>6</td>        <th>                     </th>     <td> </td>   \n",
       "</tr>\n",
       "<tr>\n",
       "  <th>Covariance Type:</th>     <td>nonrobust</td>    <th>                     </th>     <td> </td>   \n",
       "</tr>\n",
       "</table>\n",
       "<table class=\"simpletable\">\n",
       "<tr>\n",
       "         <td></td>            <th>coef</th>     <th>std err</th>      <th>z</th>      <th>P>|z|</th>  <th>[0.025</th>    <th>0.975]</th>  \n",
       "</tr>\n",
       "<tr>\n",
       "  <th>Intercept</th>       <td>   -2.3282</td> <td>    0.135</td> <td>  -17.271</td> <td> 0.000</td> <td>   -2.592</td> <td>   -2.064</td>\n",
       "</tr>\n",
       "<tr>\n",
       "  <th>male</th>            <td>    0.5107</td> <td>    0.121</td> <td>    4.231</td> <td> 0.000</td> <td>    0.274</td> <td>    0.747</td>\n",
       "</tr>\n",
       "<tr>\n",
       "  <th>age</th>             <td>    0.5683</td> <td>    0.063</td> <td>    9.055</td> <td> 0.000</td> <td>    0.445</td> <td>    0.691</td>\n",
       "</tr>\n",
       "<tr>\n",
       "  <th>currentSmoker</th>   <td>    0.0118</td> <td>    0.175</td> <td>    0.067</td> <td> 0.946</td> <td>   -0.331</td> <td>    0.355</td>\n",
       "</tr>\n",
       "<tr>\n",
       "  <th>cigsPerDay</th>      <td>    0.2204</td> <td>    0.083</td> <td>    2.649</td> <td> 0.008</td> <td>    0.057</td> <td>    0.383</td>\n",
       "</tr>\n",
       "<tr>\n",
       "  <th>BPMeds</th>          <td>   -0.0159</td> <td>    0.261</td> <td>   -0.061</td> <td> 0.952</td> <td>   -0.528</td> <td>    0.496</td>\n",
       "</tr>\n",
       "<tr>\n",
       "  <th>prevalentStroke</th> <td>    0.7163</td> <td>    0.523</td> <td>    1.368</td> <td> 0.171</td> <td>   -0.310</td> <td>    1.742</td>\n",
       "</tr>\n",
       "<tr>\n",
       "  <th>prevalentHyp</th>    <td>    0.2309</td> <td>    0.154</td> <td>    1.504</td> <td> 0.133</td> <td>   -0.070</td> <td>    0.532</td>\n",
       "</tr>\n",
       "<tr>\n",
       "  <th>diabetes</th>        <td>    0.1606</td> <td>    0.351</td> <td>    0.458</td> <td> 0.647</td> <td>   -0.527</td> <td>    0.848</td>\n",
       "</tr>\n",
       "<tr>\n",
       "  <th>totChol</th>         <td>    0.0708</td> <td>    0.056</td> <td>    1.265</td> <td> 0.206</td> <td>   -0.039</td> <td>    0.181</td>\n",
       "</tr>\n",
       "<tr>\n",
       "  <th>sysBP</th>           <td>    0.3127</td> <td>    0.092</td> <td>    3.394</td> <td> 0.001</td> <td>    0.132</td> <td>    0.493</td>\n",
       "</tr>\n",
       "<tr>\n",
       "  <th>diaBP</th>           <td>   -0.0226</td> <td>    0.085</td> <td>   -0.266</td> <td> 0.791</td> <td>   -0.189</td> <td>    0.144</td>\n",
       "</tr>\n",
       "<tr>\n",
       "  <th>BMI</th>             <td>    0.0424</td> <td>    0.057</td> <td>    0.738</td> <td> 0.460</td> <td>   -0.070</td> <td>    0.155</td>\n",
       "</tr>\n",
       "<tr>\n",
       "  <th>heartRate</th>       <td>   -0.0383</td> <td>    0.056</td> <td>   -0.681</td> <td> 0.496</td> <td>   -0.148</td> <td>    0.072</td>\n",
       "</tr>\n",
       "<tr>\n",
       "  <th>glucose</th>         <td>    0.1818</td> <td>    0.064</td> <td>    2.845</td> <td> 0.004</td> <td>    0.057</td> <td>    0.307</td>\n",
       "</tr>\n",
       "</table>"
      ],
      "text/plain": [
       "<class 'statsmodels.iolib.summary.Summary'>\n",
       "\"\"\"\n",
       "                 Generalized Linear Model Regression Results                  \n",
       "==============================================================================\n",
       "Dep. Variable:             TenYearCHD   No. Observations:                 2999\n",
       "Model:                            GLM   Df Residuals:                     2984\n",
       "Model Family:                Binomial   Df Model:                           14\n",
       "Link Function:                  logit   Scale:                          1.0000\n",
       "Method:                          IRLS   Log-Likelihood:                -1116.4\n",
       "Date:                Sat, 21 Aug 2021   Deviance:                       2232.9\n",
       "Time:                        10:17:10   Pearson chi2:                 3.00e+03\n",
       "No. Iterations:                     6                                         \n",
       "Covariance Type:            nonrobust                                         \n",
       "===================================================================================\n",
       "                      coef    std err          z      P>|z|      [0.025      0.975]\n",
       "-----------------------------------------------------------------------------------\n",
       "Intercept          -2.3282      0.135    -17.271      0.000      -2.592      -2.064\n",
       "male                0.5107      0.121      4.231      0.000       0.274       0.747\n",
       "age                 0.5683      0.063      9.055      0.000       0.445       0.691\n",
       "currentSmoker       0.0118      0.175      0.067      0.946      -0.331       0.355\n",
       "cigsPerDay          0.2204      0.083      2.649      0.008       0.057       0.383\n",
       "BPMeds             -0.0159      0.261     -0.061      0.952      -0.528       0.496\n",
       "prevalentStroke     0.7163      0.523      1.368      0.171      -0.310       1.742\n",
       "prevalentHyp        0.2309      0.154      1.504      0.133      -0.070       0.532\n",
       "diabetes            0.1606      0.351      0.458      0.647      -0.527       0.848\n",
       "totChol             0.0708      0.056      1.265      0.206      -0.039       0.181\n",
       "sysBP               0.3127      0.092      3.394      0.001       0.132       0.493\n",
       "diaBP              -0.0226      0.085     -0.266      0.791      -0.189       0.144\n",
       "BMI                 0.0424      0.057      0.738      0.460      -0.070       0.155\n",
       "heartRate          -0.0383      0.056     -0.681      0.496      -0.148       0.072\n",
       "glucose             0.1818      0.064      2.845      0.004       0.057       0.307\n",
       "===================================================================================\n",
       "\"\"\""
      ]
     },
     "execution_count": 542,
     "metadata": {},
     "output_type": "execute_result"
    }
   ],
   "source": [
    "result = lr_sns.fit()\n",
    "result.summary()"
   ]
  },
  {
   "cell_type": "markdown",
   "metadata": {},
   "source": [
    "Las variables significativas en el modelo son:\n",
    "\n",
    "- Edad\n",
    "- cigsPerDay\n",
    "- sysBP\n",
    "- glucose\n",
    "\n",
    "\n",
    "Además, podemos reconocer que las variables que se asocian con riesgo de padecer enfermedad al corazón serían todos aquellos que tienen un parámetro $\\beta$ asociado mayor a 0, entre estos, ser hombre, fumador, si el paciente tomaba medicación para presión arterial, si el paciente es hipertenso, mayor colesterol, mayor presión arterial diástolica, mayor frecuencia cardíaca, mayor glucosa."
   ]
  },
  {
   "cell_type": "markdown",
   "metadata": {},
   "source": [
    "### e) Obtenga la matriz de confusión del modelo utilizando como punto de corte 0.5 y calcule e interprete las siguientes métricas de desempeño: \n",
    "\n",
    "### - Sensibilidad\n",
    "### - Precisión\n",
    "### - Accuracy\n",
    "### - Área bajo la curva roc\n",
    "\n",
    "### En base a lo obtenido, ¿usted cree que el modelo posee un buen desempeño? Comente."
   ]
  },
  {
   "cell_type": "code",
   "execution_count": 543,
   "metadata": {},
   "outputs": [],
   "source": [
    "data_test=pd.concat([y_test,X_test], axis=1)\n",
    "\n",
    "data_test=data_test.dropna()"
   ]
  },
  {
   "cell_type": "code",
   "execution_count": 544,
   "metadata": {},
   "outputs": [
    {
     "name": "stdout",
     "output_type": "stream",
     "text": [
      "0      0.151538\n",
      "1      0.042145\n",
      "2      0.083798\n",
      "3      0.340144\n",
      "4      0.090175\n",
      "         ...   \n",
      "745    0.261263\n",
      "746    0.128215\n",
      "747    0.065711\n",
      "748    0.102271\n",
      "749    0.139854\n",
      "Length: 750, dtype: float64\n",
      "[0, 0, 0, 0, 0, 0, 0, 0, 0, 0, 0, 0, 0, 0, 0, 0, 0, 0, 0, 0, 0, 0, 0, 0, 0, 0, 0, 0, 0, 0, 0, 0, 0, 0, 0, 0, 0, 0, 0, 0, 0, 0, 0, 0, 0, 0, 0, 0, 0, 0, 0, 0, 0, 0, 0, 0, 0, 0, 0, 0, 0, 0, 0, 0, 0, 0, 0, 1, 0, 0, 0, 0, 0, 0, 0, 0, 0, 0, 0, 0, 0, 0, 0, 0, 0, 0, 0, 0, 0, 1, 0, 0, 0, 0, 0, 0, 0, 0, 0, 0, 0, 0, 0, 0, 0, 0, 0, 0, 1, 0, 0, 0, 0, 0, 0, 0, 0, 0, 0, 0, 0, 0, 0, 0, 0, 0, 0, 0, 0, 0, 0, 0, 0, 0, 0, 0, 0, 0, 0, 0, 0, 0, 0, 0, 0, 0, 0, 0, 0, 0, 0, 0, 0, 0, 0, 0, 0, 0, 0, 0, 0, 0, 0, 0, 0, 0, 0, 0, 0, 1, 0, 0, 0, 0, 0, 0, 0, 0, 0, 0, 0, 0, 0, 0, 0, 0, 0, 0, 0, 0, 0, 0, 0, 0, 0, 0, 0, 0, 0, 0, 0, 0, 0, 0, 0, 0, 0, 0, 0, 0, 0, 0, 0, 0, 0, 0, 0, 0, 0, 0, 0, 0, 0, 0, 0, 0, 0, 0, 0, 0, 0, 0, 0, 0, 0, 0, 0, 0, 0, 0, 0, 0, 0, 0, 0, 0, 0, 0, 0, 0, 0, 0, 0, 0, 0, 0, 0, 0, 0, 0, 0, 0, 0, 0, 0, 0, 0, 0, 0, 0, 0, 0, 0, 0, 0, 1, 0, 0, 0, 0, 0, 0, 0, 0, 0, 0, 0, 0, 0, 0, 0, 0, 0, 0, 0, 0, 0, 0, 0, 0, 0, 0, 0, 0, 0, 0, 0, 1, 0, 0, 0, 0, 0, 0, 0, 0, 0, 0, 0, 0, 0, 0, 0, 0, 0, 0, 0, 0, 0, 0, 0, 0, 0, 0, 0, 0, 0, 0, 0, 0, 0, 0, 1, 0, 0, 0, 0, 0, 0, 0, 0, 0, 0, 0, 0, 0, 0, 0, 0, 0, 0, 0, 0, 0, 0, 0, 0, 0, 0, 0, 0, 0, 0, 0, 0, 0, 0, 0, 0, 0, 0, 0, 0, 0, 0, 0, 0, 0, 0, 0, 0, 0, 0, 0, 0, 0, 0, 0, 0, 0, 0, 0, 0, 0, 0, 0, 0, 0, 0, 0, 0, 0, 0, 0, 0, 0, 0, 0, 0, 0, 0, 0, 0, 0, 0, 0, 0, 0, 0, 0, 0, 0, 0, 0, 0, 0, 0, 0, 0, 0, 0, 0, 0, 0, 0, 0, 0, 0, 0, 0, 0, 0, 0, 0, 0, 0, 0, 0, 0, 0, 0, 0, 0, 0, 0, 0, 0, 0, 0, 0, 0, 0, 0, 0, 0, 0, 0, 0, 0, 0, 0, 1, 0, 0, 0, 0, 0, 0, 0, 0, 0, 0, 0, 0, 0, 0, 0, 0, 0, 0, 0, 0, 0, 0, 0, 0, 0, 0, 0, 0, 0, 0, 0, 0, 0, 0, 0, 0, 0, 0, 0, 0, 0, 0, 0, 0, 0, 0, 0, 0, 0, 0, 0, 0, 0, 0, 0, 0, 0, 0, 0, 0, 0, 0, 0, 0, 0, 0, 0, 0, 0, 0, 0, 0, 0, 0, 0, 0, 0, 0, 0, 0, 0, 0, 0, 0, 0, 0, 0, 0, 0, 0, 0, 0, 0, 0, 0, 0, 0, 0, 0, 0, 0, 0, 0, 0, 0, 0, 0, 0, 0, 0, 0, 0, 0, 0, 0, 0, 0, 0, 0, 0, 0, 0, 0, 0, 0, 0, 0, 0, 0, 0, 0, 0, 0, 0, 0, 0, 0, 0, 0, 0, 0, 0, 0, 0, 0, 0, 1, 0, 0, 0, 0, 0, 0, 0, 0, 0, 0, 0, 0, 0, 0, 0, 0, 0, 0, 0, 0, 0, 0, 0, 0, 0, 0, 0, 0, 0, 0, 0, 0, 0, 0, 0, 0, 0, 0, 0, 0, 0, 0, 0, 0, 0, 0, 0, 0, 0, 0, 0, 0, 0, 0, 0, 0, 0, 0, 0, 0, 0, 0, 0, 0, 0, 0, 0, 0, 0, 0, 0, 0, 0, 0, 0, 0, 0, 0, 0, 0, 0, 0, 0, 0, 0, 0, 0, 0, 0, 0, 0, 0, 0, 0, 0, 0, 0, 0, 0, 1, 0, 0, 0, 0, 0, 0, 0, 0, 0, 0, 0, 0, 0, 0, 0, 0, 0, 0, 0, 0, 0]\n"
     ]
    }
   ],
   "source": [
    "y_pred = result.predict(X_test)\n",
    "\n",
    "print(y_pred)\n",
    "\n",
    "predictions = [ 0 if x < 0.5 else 1 for x in y_pred] #punto de corte 0.5\n",
    "\n",
    "print(predictions)\n"
   ]
  },
  {
   "cell_type": "code",
   "execution_count": 545,
   "metadata": {},
   "outputs": [
    {
     "data": {
      "image/png": "[encoded data removed]",
      "text/plain": [
       "<Figure size 432x288 with 2 Axes>"
      ]
     },
     "metadata": {
      "needs_background": "light"
     },
     "output_type": "display_data"
    }
   ],
   "source": [
    "from matplotlib import pyplot as plt\n",
    "from sklearn.metrics import confusion_matrix\n",
    "from sklearn.metrics import ConfusionMatrixDisplay\n",
    "\n",
    "cm = confusion_matrix(y_test, predictions)\n",
    "\n",
    "cm_display = ConfusionMatrixDisplay(cm, display_labels=[0, 1])\n",
    "cm_display.plot(cmap='Blues');\n",
    "plt.grid(None);"
   ]
  },
  {
   "cell_type": "code",
   "execution_count": 546,
   "metadata": {},
   "outputs": [
    {
     "name": "stdout",
     "output_type": "stream",
     "text": [
      "Accuracy:  0.844 \n",
      "Precision:  0.8 \n",
      "Recall:  0.06504065040650407\n"
     ]
    }
   ],
   "source": [
    "from sklearn.metrics import accuracy_score, precision_score, recall_score\n",
    "m1_acu=accuracy_score(y_test, predictions)\n",
    "m1_prec = precision_score(y_test, predictions)\n",
    "m1_rec = recall_score(y_test, predictions)\n",
    "\n",
    "print( \"Accuracy: \", m1_acu, \"\\nPrecision: \", m1_prec, \"\\nRecall: \", m1_rec)"
   ]
  },
  {
   "cell_type": "markdown",
   "metadata": {},
   "source": [
    "Al modelo le cuesta mucho predecir casos positivos, de ahí que el Recall sea tan bajo, predice bien los negativos, pero la clase de mayor interés son los positivos (los que tuvieron enfermedad al corazón), por ende, no sería un modelo con buen desempeño."
   ]
  },
  {
   "cell_type": "code",
   "execution_count": 547,
   "metadata": {},
   "outputs": [
    {
     "data": {
      "text/plain": [
       "0"
      ]
     },
     "execution_count": 547,
     "metadata": {},
     "output_type": "execute_result"
    }
   ],
   "source": [
    "y_test.min()"
   ]
  },
  {
   "cell_type": "code",
   "execution_count": 548,
   "metadata": {},
   "outputs": [
    {
     "data": {
      "text/plain": [
       "0.014365215131429498"
      ]
     },
     "execution_count": 548,
     "metadata": {},
     "output_type": "execute_result"
    }
   ],
   "source": [
    "y_pred.min()"
   ]
  },
  {
   "cell_type": "code",
   "execution_count": 549,
   "metadata": {},
   "outputs": [
    {
     "name": "stdout",
     "output_type": "stream",
     "text": [
      "Area under the ROC curve : 0.724939\n"
     ]
    }
   ],
   "source": [
    "from sklearn.metrics import roc_curve, auc\n",
    "\n",
    "fpr, tpr, thresholds = roc_curve(y_test, y_pred)\n",
    "roc_auc = auc(fpr, tpr)\n",
    "print(\"Area under the ROC curve : %f\" % roc_auc)"
   ]
  },
  {
   "cell_type": "markdown",
   "metadata": {},
   "source": [
    "### f) Determine el mejor punto de corte según algún criterio de interés, evalúe nuevamente las métricas anteriores. ¿Qué pasó respecto al modelo anterior? Comente."
   ]
  },
  {
   "cell_type": "markdown",
   "metadata": {},
   "source": [
    "Vamos a probar el threshold que maximiza la tasa de verdaderos positivos * (1-tasa falsos positivos)"
   ]
  },
  {
   "cell_type": "code",
   "execution_count": 550,
   "metadata": {},
   "outputs": [
    {
     "name": "stdout",
     "output_type": "stream",
     "text": [
      "the maximum value of tpr*(1-fpr) 0.46423153226747577 for threshold 0.166\n"
     ]
    },
    {
     "data": {
      "text/plain": [
       "0.16624561998596765"
      ]
     },
     "execution_count": 550,
     "metadata": {},
     "output_type": "execute_result"
    }
   ],
   "source": [
    "import numpy as np\n",
    "\n",
    "def find_best_threshold(threshould, fpr, tpr):\n",
    "   t = threshould[np.argmax(tpr*(1-fpr))]\n",
    "   # (tpr*(1-fpr)) will be maximum if your fpr is very low and tpr is very high\n",
    "   print(\"the maximum value of tpr*(1-fpr)\", max(tpr*(1-fpr)), \"for threshold\", np.round(t,3))\n",
    "   return t\n",
    "\n",
    "\n",
    "find_best_threshold(thresholds, fpr, tpr)"
   ]
  },
  {
   "cell_type": "code",
   "execution_count": 551,
   "metadata": {},
   "outputs": [],
   "source": [
    "predictions_2 = [ 0 if x < 0.16 else 1 for x in y_pred]"
   ]
  },
  {
   "cell_type": "code",
   "execution_count": 552,
   "metadata": {},
   "outputs": [
    {
     "data": {
      "image/png": "[encoded data removed]",
      "text/plain": [
       "<Figure size 432x288 with 2 Axes>"
      ]
     },
     "metadata": {
      "needs_background": "light"
     },
     "output_type": "display_data"
    }
   ],
   "source": [
    "cm_2 = confusion_matrix(y_test, predictions_2)\n",
    "\n",
    "cm_display = ConfusionMatrixDisplay(cm_2, display_labels=[0, 1])\n",
    "cm_display.plot(cmap='Blues');\n",
    "plt.grid(None);"
   ]
  },
  {
   "cell_type": "code",
   "execution_count": 553,
   "metadata": {},
   "outputs": [
    {
     "name": "stdout",
     "output_type": "stream",
     "text": [
      "Accuracy:  0.6933333333333334 \n",
      "Precision:  0.2981132075471698 \n",
      "Recall:  0.6422764227642277\n"
     ]
    }
   ],
   "source": [
    "m2_acu=accuracy_score(y_test, predictions_2)\n",
    "m2_prec = precision_score(y_test, predictions_2)\n",
    "m2_rec = recall_score(y_test, predictions_2)\n",
    "\n",
    "print( \"Accuracy: \", m2_acu, \"\\nPrecision: \", m2_prec, \"\\nRecall: \", m2_rec)"
   ]
  },
  {
   "cell_type": "markdown",
   "metadata": {},
   "source": [
    "El modelo mejora en cuanto a predicción de casos positivos, pero empeora en casos negativos, pues ahora el punto de corte es menor, por ende la exigencia para ser clasificado como positivo es menor."
   ]
  }
 ],
 "metadata": {
  "kernelspec": {
   "display_name": "Python 3",
   "language": "python",
   "name": "python3"
  },
  "language_info": {
   "codemirror_mode": {
    "name": "ipython",
    "version": 3
   },
   "file_extension": ".py",
   "mimetype": "text/x-python",
   "name": "python",
   "nbconvert_exporter": "python",
   "pygments_lexer": "ipython3",
   "version": "3.8.5"
  }
 },
 "nbformat": 4,
 "nbformat_minor": 4
}
